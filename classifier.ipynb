{
 "cells": [
  {
   "cell_type": "markdown",
   "metadata": {},
   "source": [
    "## Public Use Microdata Sample (PUMS) - Survey Data"
   ]
  },
  {
   "cell_type": "code",
   "execution_count": 1,
   "metadata": {},
   "outputs": [],
   "source": [
    "import numpy as np\n",
    "import pandas as pd\n",
    "import io\n",
    "import requests\n",
    "import seaborn as sns\n",
    "from matplotlib import pyplot as plt\n",
    "import pickle\n",
    "import os\n",
    "import warnings\n",
    "warnings.filterwarnings(\"ignore\")\n",
    "from pandas.api.types import CategoricalDtype\n",
    "\n",
    "from sklearn.base import BaseEstimator, TransformerMixin\n",
    "from sklearn.pipeline import Pipeline\n",
    "from sklearn.metrics import accuracy_score\n",
    "from sklearn.linear_model import LogisticRegression\n",
    "from sklearn.model_selection import GridSearchCV\n",
    "from sklearn.metrics import classification_report\n",
    "from sklearn.metrics import confusion_matrix\n",
    "from sklearn.preprocessing import StandardScaler\n",
    "from sklearn.pipeline import FeatureUnion\n",
    "from sklearn.model_selection import cross_val_score\n",
    "\n",
    "# Added version check for recent scikit-learn 0.18 checks\n",
    "from distutils.version import LooseVersion as Version\n",
    "from sklearn import __version__ as sklearn_version\n",
    "\n",
    "if Version(sklearn_version) < '0.18':\n",
    "    from sklearn.cross_validation import train_test_split\n",
    "else:\n",
    "    from sklearn.model_selection import train_test_split\n",
    "\n",
    "%matplotlib inline"
   ]
  },
  {
   "cell_type": "code",
   "execution_count": 2,
   "metadata": {},
   "outputs": [],
   "source": [
    "dfa = pd.read_csv(os.path.join(\"csv_pus\",'psam_pusa.csv'))\n",
    "#dfb = pd.read_csv(os.path.join(\"csv_pus\",\"psam_pusb.csv\"))\n",
    "#dfc = pd.read_csv(os.path.join(\"csv_pus\",\"psam_pusc.csv\"))\n",
    "#dfd = pd.read_csv(os.path.join(\"csv_pus\",\"psam_pusd.csv\"))\n",
    "\n",
    "#data = pd.concat([dfa,dfb,dfc,dfd])\n",
    "data = dfa"
   ]
  },
  {
   "cell_type": "code",
   "execution_count": 3,
   "metadata": {},
   "outputs": [
    {
     "name": "stdout",
     "output_type": "stream",
     "text": [
      "Number of (rows,columns): (4691835, 286)\n"
     ]
    }
   ],
   "source": [
    "print(f\"Number of (rows,columns): {data.shape}\")"
   ]
  },
  {
   "cell_type": "code",
   "execution_count": 4,
   "metadata": {},
   "outputs": [
    {
     "data": {
      "text/html": [
       "<div>\n",
       "<style scoped>\n",
       "    .dataframe tbody tr th:only-of-type {\n",
       "        vertical-align: middle;\n",
       "    }\n",
       "\n",
       "    .dataframe tbody tr th {\n",
       "        vertical-align: top;\n",
       "    }\n",
       "\n",
       "    .dataframe thead th {\n",
       "        text-align: right;\n",
       "    }\n",
       "</style>\n",
       "<table border=\"1\" class=\"dataframe\">\n",
       "  <thead>\n",
       "    <tr style=\"text-align: right;\">\n",
       "      <th></th>\n",
       "      <th>RT</th>\n",
       "      <th>SERIALNO</th>\n",
       "      <th>DIVISION</th>\n",
       "      <th>SPORDER</th>\n",
       "      <th>PUMA</th>\n",
       "      <th>REGION</th>\n",
       "      <th>ST</th>\n",
       "      <th>ADJINC</th>\n",
       "      <th>PWGTP</th>\n",
       "      <th>AGEP</th>\n",
       "      <th>...</th>\n",
       "      <th>PWGTP71</th>\n",
       "      <th>PWGTP72</th>\n",
       "      <th>PWGTP73</th>\n",
       "      <th>PWGTP74</th>\n",
       "      <th>PWGTP75</th>\n",
       "      <th>PWGTP76</th>\n",
       "      <th>PWGTP77</th>\n",
       "      <th>PWGTP78</th>\n",
       "      <th>PWGTP79</th>\n",
       "      <th>PWGTP80</th>\n",
       "    </tr>\n",
       "  </thead>\n",
       "  <tbody>\n",
       "    <tr>\n",
       "      <th>0</th>\n",
       "      <td>P</td>\n",
       "      <td>2013000000084</td>\n",
       "      <td>6</td>\n",
       "      <td>1</td>\n",
       "      <td>2600</td>\n",
       "      <td>3</td>\n",
       "      <td>1</td>\n",
       "      <td>1061971</td>\n",
       "      <td>13</td>\n",
       "      <td>19</td>\n",
       "      <td>...</td>\n",
       "      <td>14</td>\n",
       "      <td>1</td>\n",
       "      <td>1</td>\n",
       "      <td>27</td>\n",
       "      <td>24</td>\n",
       "      <td>13</td>\n",
       "      <td>14</td>\n",
       "      <td>14</td>\n",
       "      <td>13</td>\n",
       "      <td>27</td>\n",
       "    </tr>\n",
       "    <tr>\n",
       "      <th>1</th>\n",
       "      <td>P</td>\n",
       "      <td>2013000000154</td>\n",
       "      <td>6</td>\n",
       "      <td>1</td>\n",
       "      <td>2500</td>\n",
       "      <td>3</td>\n",
       "      <td>1</td>\n",
       "      <td>1061971</td>\n",
       "      <td>11</td>\n",
       "      <td>55</td>\n",
       "      <td>...</td>\n",
       "      <td>19</td>\n",
       "      <td>13</td>\n",
       "      <td>13</td>\n",
       "      <td>19</td>\n",
       "      <td>11</td>\n",
       "      <td>4</td>\n",
       "      <td>3</td>\n",
       "      <td>4</td>\n",
       "      <td>12</td>\n",
       "      <td>3</td>\n",
       "    </tr>\n",
       "    <tr>\n",
       "      <th>2</th>\n",
       "      <td>P</td>\n",
       "      <td>2013000000154</td>\n",
       "      <td>6</td>\n",
       "      <td>2</td>\n",
       "      <td>2500</td>\n",
       "      <td>3</td>\n",
       "      <td>1</td>\n",
       "      <td>1061971</td>\n",
       "      <td>13</td>\n",
       "      <td>56</td>\n",
       "      <td>...</td>\n",
       "      <td>22</td>\n",
       "      <td>13</td>\n",
       "      <td>15</td>\n",
       "      <td>23</td>\n",
       "      <td>12</td>\n",
       "      <td>4</td>\n",
       "      <td>4</td>\n",
       "      <td>5</td>\n",
       "      <td>12</td>\n",
       "      <td>4</td>\n",
       "    </tr>\n",
       "    <tr>\n",
       "      <th>3</th>\n",
       "      <td>P</td>\n",
       "      <td>2013000000154</td>\n",
       "      <td>6</td>\n",
       "      <td>3</td>\n",
       "      <td>2500</td>\n",
       "      <td>3</td>\n",
       "      <td>1</td>\n",
       "      <td>1061971</td>\n",
       "      <td>30</td>\n",
       "      <td>21</td>\n",
       "      <td>...</td>\n",
       "      <td>59</td>\n",
       "      <td>29</td>\n",
       "      <td>28</td>\n",
       "      <td>67</td>\n",
       "      <td>37</td>\n",
       "      <td>10</td>\n",
       "      <td>10</td>\n",
       "      <td>10</td>\n",
       "      <td>29</td>\n",
       "      <td>10</td>\n",
       "    </tr>\n",
       "    <tr>\n",
       "      <th>4</th>\n",
       "      <td>P</td>\n",
       "      <td>2013000000154</td>\n",
       "      <td>6</td>\n",
       "      <td>4</td>\n",
       "      <td>2500</td>\n",
       "      <td>3</td>\n",
       "      <td>1</td>\n",
       "      <td>1061971</td>\n",
       "      <td>15</td>\n",
       "      <td>21</td>\n",
       "      <td>...</td>\n",
       "      <td>28</td>\n",
       "      <td>12</td>\n",
       "      <td>14</td>\n",
       "      <td>30</td>\n",
       "      <td>13</td>\n",
       "      <td>4</td>\n",
       "      <td>4</td>\n",
       "      <td>4</td>\n",
       "      <td>17</td>\n",
       "      <td>6</td>\n",
       "    </tr>\n",
       "  </tbody>\n",
       "</table>\n",
       "<p>5 rows × 286 columns</p>\n",
       "</div>"
      ],
      "text/plain": [
       "  RT       SERIALNO  DIVISION  SPORDER  PUMA  REGION  ST   ADJINC  PWGTP  \\\n",
       "0  P  2013000000084         6        1  2600       3   1  1061971     13   \n",
       "1  P  2013000000154         6        1  2500       3   1  1061971     11   \n",
       "2  P  2013000000154         6        2  2500       3   1  1061971     13   \n",
       "3  P  2013000000154         6        3  2500       3   1  1061971     30   \n",
       "4  P  2013000000154         6        4  2500       3   1  1061971     15   \n",
       "\n",
       "   AGEP   ...     PWGTP71  PWGTP72  PWGTP73  PWGTP74  PWGTP75  PWGTP76  \\\n",
       "0    19   ...          14        1        1       27       24       13   \n",
       "1    55   ...          19       13       13       19       11        4   \n",
       "2    56   ...          22       13       15       23       12        4   \n",
       "3    21   ...          59       29       28       67       37       10   \n",
       "4    21   ...          28       12       14       30       13        4   \n",
       "\n",
       "   PWGTP77  PWGTP78  PWGTP79  PWGTP80  \n",
       "0       14       14       13       27  \n",
       "1        3        4       12        3  \n",
       "2        4        5       12        4  \n",
       "3       10       10       29       10  \n",
       "4        4        4       17        6  \n",
       "\n",
       "[5 rows x 286 columns]"
      ]
     },
     "execution_count": 4,
     "metadata": {},
     "output_type": "execute_result"
    }
   ],
   "source": [
    "data.head()"
   ]
  },
  {
   "cell_type": "code",
   "execution_count": 5,
   "metadata": {},
   "outputs": [
    {
     "data": {
      "text/plain": [
       "Index(['RT', 'SERIALNO', 'DIVISION', 'SPORDER', 'PUMA', 'REGION', 'ST',\n",
       "       'ADJINC', 'PWGTP', 'AGEP',\n",
       "       ...\n",
       "       'PWGTP71', 'PWGTP72', 'PWGTP73', 'PWGTP74', 'PWGTP75', 'PWGTP76',\n",
       "       'PWGTP77', 'PWGTP78', 'PWGTP79', 'PWGTP80'],\n",
       "      dtype='object', length=286)"
      ]
     },
     "execution_count": 5,
     "metadata": {},
     "output_type": "execute_result"
    }
   ],
   "source": [
    "data.columns"
   ]
  },
  {
   "cell_type": "markdown",
   "metadata": {},
   "source": [
    "## Filter columns\n",
    "\n",
    "label = HINS4 (coverage through Medicaid, Medical Assistance, or any kind of government-assistance plan for those with low incomes or a disability)"
   ]
  },
  {
   "cell_type": "code",
   "execution_count": 6,
   "metadata": {},
   "outputs": [],
   "source": [
    "to_collect=['AGEP','REGION','DIVISION','ST','ADJINC','COW','DEAR','MAR',\n",
    "            'DDRS','DEAR','DOUT','DPHY','DRAT','INTP','SEX','RAC1P','POVPIP','PINCP']\n",
    "label = [\"HINS4\"]"
   ]
  },
  {
   "cell_type": "code",
   "execution_count": 7,
   "metadata": {},
   "outputs": [],
   "source": [
    "X = data[to_collect]\n",
    "y = data[label]"
   ]
  },
  {
   "cell_type": "code",
   "execution_count": 8,
   "metadata": {},
   "outputs": [],
   "source": [
    "y.replace([1.0, 2.0], [1, 0], inplace=True)\n"
   ]
  },
  {
   "cell_type": "code",
   "execution_count": 9,
   "metadata": {},
   "outputs": [
    {
     "data": {
      "text/plain": [
       "(4691835, 18)"
      ]
     },
     "execution_count": 9,
     "metadata": {},
     "output_type": "execute_result"
    }
   ],
   "source": [
    "X.shape"
   ]
  },
  {
   "cell_type": "code",
   "execution_count": 10,
   "metadata": {},
   "outputs": [
    {
     "name": "stdout",
     "output_type": "stream",
     "text": [
      "(4691835, 18)\n"
     ]
    }
   ],
   "source": [
    "print(X.shape)"
   ]
  },
  {
   "cell_type": "markdown",
   "metadata": {},
   "source": [
    "## Missing Values"
   ]
  },
  {
   "cell_type": "code",
   "execution_count": 11,
   "metadata": {},
   "outputs": [
    {
     "name": "stdout",
     "output_type": "stream",
     "text": [
      "AGEP              0\n",
      "REGION            0\n",
      "DIVISION          0\n",
      "ST                0\n",
      "ADJINC            0\n",
      "COW         1983292\n",
      "DEAR              0\n",
      "MAR               0\n",
      "DDRS         239404\n",
      "DEAR              0\n",
      "DOUT         791304\n",
      "DPHY         239404\n",
      "DRAT        4624413\n",
      "INTP         791304\n",
      "SEX               0\n",
      "RAC1P             0\n",
      "POVPIP       178319\n",
      "PINCP        791304\n",
      "dtype: int64\n"
     ]
    }
   ],
   "source": [
    "missing_values = [\"n/a\", \"na\", \"--\"]\n",
    "print(X.isnull().sum())"
   ]
  },
  {
   "cell_type": "code",
   "execution_count": 12,
   "metadata": {},
   "outputs": [
    {
     "data": {
      "text/plain": [
       "AGEP        False\n",
       "REGION      False\n",
       "DIVISION    False\n",
       "ST          False\n",
       "ADJINC      False\n",
       "COW         False\n",
       "DEAR        False\n",
       "MAR         False\n",
       "DDRS        False\n",
       "DEAR        False\n",
       "DOUT        False\n",
       "DPHY        False\n",
       "DRAT        False\n",
       "INTP        False\n",
       "SEX         False\n",
       "RAC1P       False\n",
       "POVPIP      False\n",
       "PINCP       False\n",
       "dtype: bool"
      ]
     },
     "execution_count": 12,
     "metadata": {},
     "output_type": "execute_result"
    }
   ],
   "source": [
    "X.isin(missing_values).any()"
   ]
  },
  {
   "cell_type": "code",
   "execution_count": 15,
   "metadata": {},
   "outputs": [],
   "source": [
    "X = X.drop(['DRAT'], axis=1)"
   ]
  },
  {
   "cell_type": "code",
   "execution_count": 14,
   "metadata": {},
   "outputs": [],
   "source": [
    "X = X.fillna(0.0)"
   ]
  },
  {
   "cell_type": "code",
   "execution_count": 16,
   "metadata": {},
   "outputs": [
    {
     "data": {
      "text/html": [
       "<div>\n",
       "<style scoped>\n",
       "    .dataframe tbody tr th:only-of-type {\n",
       "        vertical-align: middle;\n",
       "    }\n",
       "\n",
       "    .dataframe tbody tr th {\n",
       "        vertical-align: top;\n",
       "    }\n",
       "\n",
       "    .dataframe thead th {\n",
       "        text-align: right;\n",
       "    }\n",
       "</style>\n",
       "<table border=\"1\" class=\"dataframe\">\n",
       "  <thead>\n",
       "    <tr style=\"text-align: right;\">\n",
       "      <th></th>\n",
       "      <th>AGEP</th>\n",
       "      <th>REGION</th>\n",
       "      <th>DIVISION</th>\n",
       "      <th>ST</th>\n",
       "      <th>ADJINC</th>\n",
       "      <th>COW</th>\n",
       "      <th>DEAR</th>\n",
       "      <th>MAR</th>\n",
       "      <th>DDRS</th>\n",
       "      <th>DEAR</th>\n",
       "      <th>DOUT</th>\n",
       "      <th>DPHY</th>\n",
       "      <th>INTP</th>\n",
       "      <th>SEX</th>\n",
       "      <th>RAC1P</th>\n",
       "      <th>POVPIP</th>\n",
       "      <th>PINCP</th>\n",
       "    </tr>\n",
       "  </thead>\n",
       "  <tbody>\n",
       "    <tr>\n",
       "      <th>0</th>\n",
       "      <td>19</td>\n",
       "      <td>3</td>\n",
       "      <td>6</td>\n",
       "      <td>1</td>\n",
       "      <td>1061971</td>\n",
       "      <td>0.0</td>\n",
       "      <td>2</td>\n",
       "      <td>5</td>\n",
       "      <td>2.0</td>\n",
       "      <td>2</td>\n",
       "      <td>2.0</td>\n",
       "      <td>2.0</td>\n",
       "      <td>0.0</td>\n",
       "      <td>2</td>\n",
       "      <td>1</td>\n",
       "      <td>0.0</td>\n",
       "      <td>0.0</td>\n",
       "    </tr>\n",
       "    <tr>\n",
       "      <th>1</th>\n",
       "      <td>55</td>\n",
       "      <td>3</td>\n",
       "      <td>6</td>\n",
       "      <td>1</td>\n",
       "      <td>1061971</td>\n",
       "      <td>1.0</td>\n",
       "      <td>2</td>\n",
       "      <td>1</td>\n",
       "      <td>2.0</td>\n",
       "      <td>2</td>\n",
       "      <td>2.0</td>\n",
       "      <td>2.0</td>\n",
       "      <td>0.0</td>\n",
       "      <td>2</td>\n",
       "      <td>2</td>\n",
       "      <td>501.0</td>\n",
       "      <td>52000.0</td>\n",
       "    </tr>\n",
       "    <tr>\n",
       "      <th>2</th>\n",
       "      <td>56</td>\n",
       "      <td>3</td>\n",
       "      <td>6</td>\n",
       "      <td>1</td>\n",
       "      <td>1061971</td>\n",
       "      <td>6.0</td>\n",
       "      <td>2</td>\n",
       "      <td>1</td>\n",
       "      <td>2.0</td>\n",
       "      <td>2</td>\n",
       "      <td>2.0</td>\n",
       "      <td>2.0</td>\n",
       "      <td>0.0</td>\n",
       "      <td>1</td>\n",
       "      <td>2</td>\n",
       "      <td>501.0</td>\n",
       "      <td>99000.0</td>\n",
       "    </tr>\n",
       "    <tr>\n",
       "      <th>3</th>\n",
       "      <td>21</td>\n",
       "      <td>3</td>\n",
       "      <td>6</td>\n",
       "      <td>1</td>\n",
       "      <td>1061971</td>\n",
       "      <td>0.0</td>\n",
       "      <td>2</td>\n",
       "      <td>5</td>\n",
       "      <td>2.0</td>\n",
       "      <td>2</td>\n",
       "      <td>2.0</td>\n",
       "      <td>2.0</td>\n",
       "      <td>0.0</td>\n",
       "      <td>1</td>\n",
       "      <td>2</td>\n",
       "      <td>501.0</td>\n",
       "      <td>0.0</td>\n",
       "    </tr>\n",
       "    <tr>\n",
       "      <th>4</th>\n",
       "      <td>21</td>\n",
       "      <td>3</td>\n",
       "      <td>6</td>\n",
       "      <td>1</td>\n",
       "      <td>1061971</td>\n",
       "      <td>0.0</td>\n",
       "      <td>2</td>\n",
       "      <td>5</td>\n",
       "      <td>1.0</td>\n",
       "      <td>2</td>\n",
       "      <td>1.0</td>\n",
       "      <td>1.0</td>\n",
       "      <td>0.0</td>\n",
       "      <td>2</td>\n",
       "      <td>2</td>\n",
       "      <td>501.0</td>\n",
       "      <td>0.0</td>\n",
       "    </tr>\n",
       "  </tbody>\n",
       "</table>\n",
       "</div>"
      ],
      "text/plain": [
       "   AGEP  REGION  DIVISION  ST   ADJINC  COW  DEAR  MAR  DDRS  DEAR  DOUT  \\\n",
       "0    19       3         6   1  1061971  0.0     2    5   2.0     2   2.0   \n",
       "1    55       3         6   1  1061971  1.0     2    1   2.0     2   2.0   \n",
       "2    56       3         6   1  1061971  6.0     2    1   2.0     2   2.0   \n",
       "3    21       3         6   1  1061971  0.0     2    5   2.0     2   2.0   \n",
       "4    21       3         6   1  1061971  0.0     2    5   1.0     2   1.0   \n",
       "\n",
       "   DPHY  INTP  SEX  RAC1P  POVPIP    PINCP  \n",
       "0   2.0   0.0    2      1     0.0      0.0  \n",
       "1   2.0   0.0    2      2   501.0  52000.0  \n",
       "2   2.0   0.0    1      2   501.0  99000.0  \n",
       "3   2.0   0.0    1      2   501.0      0.0  \n",
       "4   1.0   0.0    2      2   501.0      0.0  "
      ]
     },
     "execution_count": 16,
     "metadata": {},
     "output_type": "execute_result"
    }
   ],
   "source": [
    "X.head()"
   ]
  },
  {
   "cell_type": "markdown",
   "metadata": {},
   "source": [
    "## Split the data - Train and Test\n",
    "Splitting data into 70% training and 30% test data:"
   ]
  },
  {
   "cell_type": "code",
   "execution_count": 17,
   "metadata": {},
   "outputs": [],
   "source": [
    "split_percent = 0.3\n",
    "seed = 10\n",
    "X_train, X_test, y_train, y_test = train_test_split(\n",
    "    X, y, test_size=split_percent, random_state=seed)"
   ]
  },
  {
   "cell_type": "code",
   "execution_count": 18,
   "metadata": {},
   "outputs": [
    {
     "name": "stdout",
     "output_type": "stream",
     "text": [
      "X_train:(3284284, 17), X_test: (1407551, 17)\n"
     ]
    }
   ],
   "source": [
    "print(f\"X_train:{X_train.shape}, X_test: {X_test.shape}\")"
   ]
  },
  {
   "cell_type": "markdown",
   "metadata": {},
   "source": [
    "## Standardizing the features"
   ]
  },
  {
   "cell_type": "code",
   "execution_count": 19,
   "metadata": {},
   "outputs": [],
   "source": [
    "from sklearn.preprocessing import StandardScaler\n",
    "\n",
    "sc = StandardScaler()\n",
    "sc.fit(X_train)\n",
    "X_train_std = sc.transform(X_train)\n",
    "X_test_std = sc.transform(X_test)"
   ]
  },
  {
   "cell_type": "markdown",
   "metadata": {},
   "source": [
    "## Computing Fairness Model\n",
    "\n",
    "\n",
    "**Divide data into interest groups based on income attribute**\n"
   ]
  },
  {
   "cell_type": "code",
   "execution_count": 20,
   "metadata": {},
   "outputs": [],
   "source": [
    "## Train data\n",
    "p_1 = X_train[X_train['PINCP']<=20000] ## 20k\n",
    "p_0 = X_train[X_train['PINCP']>20000]\n",
    "\n",
    "## Test data\n",
    "p_1_test = X_test[X_test['PINCP']<=20000] ## 20k\n",
    "p_0_test = X_test[X_test['PINCP']>20000]"
   ]
  },
  {
   "cell_type": "code",
   "execution_count": 20,
   "metadata": {},
   "outputs": [
    {
     "data": {
      "text/plain": [
       "670321"
      ]
     },
     "execution_count": 20,
     "metadata": {},
     "output_type": "execute_result"
    }
   ],
   "source": [
    "len(np.where(y_train.values==1)[0])"
   ]
  },
  {
   "cell_type": "markdown",
   "metadata": {},
   "source": [
    "### Compute threshold"
   ]
  },
  {
   "cell_type": "code",
   "execution_count": 26,
   "metadata": {},
   "outputs": [],
   "source": [
    "def compute_t(fairness):\n",
    "    return (1/fairness) - 1\n",
    "\n",
    "def compute_fairness(t):\n",
    "    return (1/(1+t))"
   ]
  },
  {
   "cell_type": "code",
   "execution_count": 43,
   "metadata": {},
   "outputs": [],
   "source": [
    "## Consider Fairness - 0.8 - initial value\n",
    "fairness = [0.7]\n",
    "lambdas = [[1000,1000]]"
   ]
  },
  {
   "cell_type": "markdown",
   "metadata": {},
   "source": [
    "### Compute ratio \n",
    "\n",
    "<p>\n",
    "ratio_1 = #(p_1 & y_train ==1)/#(y_train==1) \n",
    " </p>\n",
    " \n",
    " <p>\n",
    "\n",
    "ratio_2 = #(p_0 & y_train ==1)/#(y_train==1)\n",
    "</p>\n",
    "\n",
    "<p>\n",
    "    where p_1, p_0 are two interests groups: p_1 = income less than 20k, p_0 = income greater than 20k,\n",
    "    y_train = 1 \n",
    "    (HINS4 (coverage through Medicaid, Medical Assistance, or any kind of government-assistance plan for those with low incomes or a disability))\n",
    "</p>"
   ]
  },
  {
   "cell_type": "code",
   "execution_count": 44,
   "metadata": {},
   "outputs": [
    {
     "name": "stdout",
     "output_type": "stream",
     "text": [
      "[0.8790609275257675, 0.1209390724742325]\n"
     ]
    }
   ],
   "source": [
    "## Fairness matrix\n",
    "# protected attribute - income\n",
    "def get_ratio(p_set, y, yvalue):\n",
    "    numerator = len(np.where(y.loc[p_set.index].values==yvalue)[0])\n",
    "    total = len(np.where(y_train.values==yvalue)[0])\n",
    "    return numerator/total\n",
    "\n",
    "\n",
    "## ratio 1 and ratio 2\n",
    "prior_matrix = [get_ratio(p_1,y_train,1),get_ratio(p_0,y_train,1)]\n",
    "print(prior_matrix)"
   ]
  },
  {
   "cell_type": "markdown",
   "metadata": {},
   "source": [
    "#### Fairness ratio in train data:\n",
    "fairness_ratio = 0.870/0.12"
   ]
  },
  {
   "cell_type": "code",
   "execution_count": 45,
   "metadata": {},
   "outputs": [
    {
     "name": "stdout",
     "output_type": "stream",
     "text": [
      "train fairness ratio 7.268626338382592\n"
     ]
    }
   ],
   "source": [
    "train_fairness_ratio = prior_matrix[0]/prior_matrix[1]\n",
    "print(f\"train fairness ratio {train_fairness_ratio}\")"
   ]
  },
  {
   "cell_type": "markdown",
   "metadata": {},
   "source": [
    "## a) Training Logistic Regression Model \n",
    "\n",
    "- test with train and test split"
   ]
  },
  {
   "cell_type": "code",
   "execution_count": 49,
   "metadata": {},
   "outputs": [
    {
     "name": "stdout",
     "output_type": "stream",
     "text": [
      "For Fairness,0.7 => 0.4285714285714286\n",
      "C: 2.842170943040401e-14\n",
      "Coefficient of each feature: [[-6.514536e-09  1.714138e-09  2.244430e-09 -2.138717e-09 -9.973527e-10\n",
      "  -5.739979e-09 -9.312862e-10  8.472326e-09 -6.656211e-09 -9.312862e-10\n",
      "  -1.017024e-08 -6.948231e-09 -1.782225e-09  9.018771e-10  3.413131e-09\n",
      "  -1.530839e-08 -7.764977e-09]]\n",
      "Training accuracy: 0.776620109588574\n",
      "Test accuracy: 0.7763477131556867\n"
     ]
    },
    {
     "data": {
      "image/png": "[encoded data removed]",
      "text/plain": [
       "<matplotlib.figure.Figure at 0x2afc4fa3b38>"
      ]
     },
     "metadata": {},
     "output_type": "display_data"
    },
    {
     "name": "stdout",
     "output_type": "stream",
     "text": [
      "\n"
     ]
    }
   ],
   "source": [
    "from sklearn.linear_model import LogisticRegression\n",
    "np.set_printoptions(precision=6)\n",
    "\n",
    "\n",
    "for f in fairness:\n",
    "    t = compute_t(f)\n",
    "    print(f\"For Fairness,{f} => {t}\")\n",
    "    \n",
    "    prior1 = (prior_matrix[0] - (1/(1+t)))\n",
    "    prior2 = (prior_matrix[1] - (t/(1+t)))\n",
    "    \n",
    "    for (l1,l2) in lambdas:\n",
    "        c = (l1*prior1 + l2*prior2)\n",
    "        clf = LogisticRegression(C=c)\n",
    "        \n",
    "        ## Train\n",
    "        clf.fit(X_train_std,y_train)\n",
    "        print('C:', c)\n",
    "        print('Coefficient of each feature:', clf.coef_)\n",
    "        print('Training accuracy:', clf.score(X_train_std, y_train))\n",
    "        \n",
    "        ## Test\n",
    "        y_pred = clf.predict(X_test_std)\n",
    "        print('Test accuracy:', accuracy_score(y_pred, y_test.values))\n",
    "        \n",
    "        \n",
    "        cfm = confusion_matrix(y_pred, y_test.values)\n",
    "        sns.heatmap(cfm, annot=True)\n",
    "        plt.xlabel('Predicted classes')\n",
    "        plt.ylabel('Actual classes')\n",
    "        plt.show()\n",
    "\n",
    "        print('')"
   ]
  },
  {
   "cell_type": "markdown",
   "metadata": {},
   "source": [
    "## Model Fairness on test"
   ]
  },
  {
   "cell_type": "code",
   "execution_count": 47,
   "metadata": {},
   "outputs": [],
   "source": [
    "## Fairness, p_1_test, p_0_test\n",
    "p_1_test_std = sc.transform(p_1_test)\n",
    "p_0_test_std = sc.transform(p_0_test)\n"
   ]
  },
  {
   "cell_type": "code",
   "execution_count": 48,
   "metadata": {},
   "outputs": [
    {
     "name": "stdout",
     "output_type": "stream",
     "text": [
      "Test fairness: 54.7504143188598\n"
     ]
    }
   ],
   "source": [
    "y_pred_p1 = clf.predict(p_1_test_std)\n",
    "y_pred_p0 = clf.predict(p_0_test_std)\n",
    "ratio_1 = len(np.where(y_pred_p1==1)[0])\n",
    "ratio_2 = len(np.where(y_pred_p0 == 1)[0])\n",
    "\n",
    "print(f\"Test fairness: {ratio_1/ratio_2}\")"
   ]
  },
  {
   "cell_type": "code",
   "execution_count": null,
   "metadata": {},
   "outputs": [],
   "source": []
  }
 ],
 "metadata": {
  "kernelspec": {
   "display_name": "Python 3",
   "language": "python",
   "name": "python3"
  },
  "language_info": {
   "codemirror_mode": {
    "name": "ipython",
    "version": 3
   },
   "file_extension": ".py",
   "mimetype": "text/x-python",
   "name": "python",
   "nbconvert_exporter": "python",
   "pygments_lexer": "ipython3",
   "version": "3.6.4"
  }
 },
 "nbformat": 4,
 "nbformat_minor": 2
}
