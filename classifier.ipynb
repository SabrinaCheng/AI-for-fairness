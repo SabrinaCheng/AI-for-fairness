{
 "cells": [
  {
   "cell_type": "markdown",
   "metadata": {},
   "source": [
    "## Public Use Microdata Sample (PUMS) - Survey Data"
   ]
  },
  {
   "cell_type": "code",
   "execution_count": 165,
   "metadata": {},
   "outputs": [],
   "source": [
    "import numpy as np\n",
    "import pandas as pd\n",
    "import os\n",
    "\n",
    "# Added version check for recent scikit-learn 0.18 checks\n",
    "from distutils.version import LooseVersion as Version\n",
    "from sklearn import __version__ as sklearn_version\n",
    "\n",
    "if Version(sklearn_version) < '0.18':\n",
    "    from sklearn.cross_validation import train_test_split\n",
    "else:\n",
    "    from sklearn.model_selection import train_test_split\n",
    "\n",
    "import matplotlib.pyplot as plt\n",
    "\n",
    "%matplotlib inline"
   ]
  },
  {
   "cell_type": "code",
   "execution_count": 166,
   "metadata": {},
   "outputs": [],
   "source": [
    "data=pd.read_csv(os.path.join(\"csv_pus\",'psam_pusa.csv'))"
   ]
  },
  {
   "cell_type": "code",
   "execution_count": 167,
   "metadata": {},
   "outputs": [
    {
     "name": "stdout",
     "output_type": "stream",
     "text": [
      "Number of (rows,columns): (4691835, 286)\n"
     ]
    }
   ],
   "source": [
    "print(f\"Number of (rows,columns): {data.shape}\")"
   ]
  },
  {
   "cell_type": "code",
   "execution_count": 168,
   "metadata": {},
   "outputs": [
    {
     "data": {
      "text/html": [
       "<div>\n",
       "<style scoped>\n",
       "    .dataframe tbody tr th:only-of-type {\n",
       "        vertical-align: middle;\n",
       "    }\n",
       "\n",
       "    .dataframe tbody tr th {\n",
       "        vertical-align: top;\n",
       "    }\n",
       "\n",
       "    .dataframe thead th {\n",
       "        text-align: right;\n",
       "    }\n",
       "</style>\n",
       "<table border=\"1\" class=\"dataframe\">\n",
       "  <thead>\n",
       "    <tr style=\"text-align: right;\">\n",
       "      <th></th>\n",
       "      <th>RT</th>\n",
       "      <th>SERIALNO</th>\n",
       "      <th>DIVISION</th>\n",
       "      <th>SPORDER</th>\n",
       "      <th>PUMA</th>\n",
       "      <th>REGION</th>\n",
       "      <th>ST</th>\n",
       "      <th>ADJINC</th>\n",
       "      <th>PWGTP</th>\n",
       "      <th>AGEP</th>\n",
       "      <th>...</th>\n",
       "      <th>PWGTP71</th>\n",
       "      <th>PWGTP72</th>\n",
       "      <th>PWGTP73</th>\n",
       "      <th>PWGTP74</th>\n",
       "      <th>PWGTP75</th>\n",
       "      <th>PWGTP76</th>\n",
       "      <th>PWGTP77</th>\n",
       "      <th>PWGTP78</th>\n",
       "      <th>PWGTP79</th>\n",
       "      <th>PWGTP80</th>\n",
       "    </tr>\n",
       "  </thead>\n",
       "  <tbody>\n",
       "    <tr>\n",
       "      <th>0</th>\n",
       "      <td>P</td>\n",
       "      <td>2013000000084</td>\n",
       "      <td>6</td>\n",
       "      <td>1</td>\n",
       "      <td>2600</td>\n",
       "      <td>3</td>\n",
       "      <td>1</td>\n",
       "      <td>1061971</td>\n",
       "      <td>13</td>\n",
       "      <td>19</td>\n",
       "      <td>...</td>\n",
       "      <td>14</td>\n",
       "      <td>1</td>\n",
       "      <td>1</td>\n",
       "      <td>27</td>\n",
       "      <td>24</td>\n",
       "      <td>13</td>\n",
       "      <td>14</td>\n",
       "      <td>14</td>\n",
       "      <td>13</td>\n",
       "      <td>27</td>\n",
       "    </tr>\n",
       "    <tr>\n",
       "      <th>1</th>\n",
       "      <td>P</td>\n",
       "      <td>2013000000154</td>\n",
       "      <td>6</td>\n",
       "      <td>1</td>\n",
       "      <td>2500</td>\n",
       "      <td>3</td>\n",
       "      <td>1</td>\n",
       "      <td>1061971</td>\n",
       "      <td>11</td>\n",
       "      <td>55</td>\n",
       "      <td>...</td>\n",
       "      <td>19</td>\n",
       "      <td>13</td>\n",
       "      <td>13</td>\n",
       "      <td>19</td>\n",
       "      <td>11</td>\n",
       "      <td>4</td>\n",
       "      <td>3</td>\n",
       "      <td>4</td>\n",
       "      <td>12</td>\n",
       "      <td>3</td>\n",
       "    </tr>\n",
       "    <tr>\n",
       "      <th>2</th>\n",
       "      <td>P</td>\n",
       "      <td>2013000000154</td>\n",
       "      <td>6</td>\n",
       "      <td>2</td>\n",
       "      <td>2500</td>\n",
       "      <td>3</td>\n",
       "      <td>1</td>\n",
       "      <td>1061971</td>\n",
       "      <td>13</td>\n",
       "      <td>56</td>\n",
       "      <td>...</td>\n",
       "      <td>22</td>\n",
       "      <td>13</td>\n",
       "      <td>15</td>\n",
       "      <td>23</td>\n",
       "      <td>12</td>\n",
       "      <td>4</td>\n",
       "      <td>4</td>\n",
       "      <td>5</td>\n",
       "      <td>12</td>\n",
       "      <td>4</td>\n",
       "    </tr>\n",
       "    <tr>\n",
       "      <th>3</th>\n",
       "      <td>P</td>\n",
       "      <td>2013000000154</td>\n",
       "      <td>6</td>\n",
       "      <td>3</td>\n",
       "      <td>2500</td>\n",
       "      <td>3</td>\n",
       "      <td>1</td>\n",
       "      <td>1061971</td>\n",
       "      <td>30</td>\n",
       "      <td>21</td>\n",
       "      <td>...</td>\n",
       "      <td>59</td>\n",
       "      <td>29</td>\n",
       "      <td>28</td>\n",
       "      <td>67</td>\n",
       "      <td>37</td>\n",
       "      <td>10</td>\n",
       "      <td>10</td>\n",
       "      <td>10</td>\n",
       "      <td>29</td>\n",
       "      <td>10</td>\n",
       "    </tr>\n",
       "    <tr>\n",
       "      <th>4</th>\n",
       "      <td>P</td>\n",
       "      <td>2013000000154</td>\n",
       "      <td>6</td>\n",
       "      <td>4</td>\n",
       "      <td>2500</td>\n",
       "      <td>3</td>\n",
       "      <td>1</td>\n",
       "      <td>1061971</td>\n",
       "      <td>15</td>\n",
       "      <td>21</td>\n",
       "      <td>...</td>\n",
       "      <td>28</td>\n",
       "      <td>12</td>\n",
       "      <td>14</td>\n",
       "      <td>30</td>\n",
       "      <td>13</td>\n",
       "      <td>4</td>\n",
       "      <td>4</td>\n",
       "      <td>4</td>\n",
       "      <td>17</td>\n",
       "      <td>6</td>\n",
       "    </tr>\n",
       "  </tbody>\n",
       "</table>\n",
       "<p>5 rows × 286 columns</p>\n",
       "</div>"
      ],
      "text/plain": [
       "  RT       SERIALNO  DIVISION  SPORDER  PUMA  REGION  ST   ADJINC  PWGTP  \\\n",
       "0  P  2013000000084         6        1  2600       3   1  1061971     13   \n",
       "1  P  2013000000154         6        1  2500       3   1  1061971     11   \n",
       "2  P  2013000000154         6        2  2500       3   1  1061971     13   \n",
       "3  P  2013000000154         6        3  2500       3   1  1061971     30   \n",
       "4  P  2013000000154         6        4  2500       3   1  1061971     15   \n",
       "\n",
       "   AGEP   ...     PWGTP71  PWGTP72  PWGTP73  PWGTP74  PWGTP75  PWGTP76  \\\n",
       "0    19   ...          14        1        1       27       24       13   \n",
       "1    55   ...          19       13       13       19       11        4   \n",
       "2    56   ...          22       13       15       23       12        4   \n",
       "3    21   ...          59       29       28       67       37       10   \n",
       "4    21   ...          28       12       14       30       13        4   \n",
       "\n",
       "   PWGTP77  PWGTP78  PWGTP79  PWGTP80  \n",
       "0       14       14       13       27  \n",
       "1        3        4       12        3  \n",
       "2        4        5       12        4  \n",
       "3       10       10       29       10  \n",
       "4        4        4       17        6  \n",
       "\n",
       "[5 rows x 286 columns]"
      ]
     },
     "execution_count": 168,
     "metadata": {},
     "output_type": "execute_result"
    }
   ],
   "source": [
    "data.head()"
   ]
  },
  {
   "cell_type": "code",
   "execution_count": 63,
   "metadata": {},
   "outputs": [
    {
     "data": {
      "text/plain": [
       "Index(['RT', 'SERIALNO', 'DIVISION', 'SPORDER', 'PUMA', 'REGION', 'ST',\n",
       "       'ADJINC', 'PWGTP', 'AGEP',\n",
       "       ...\n",
       "       'PWGTP71', 'PWGTP72', 'PWGTP73', 'PWGTP74', 'PWGTP75', 'PWGTP76',\n",
       "       'PWGTP77', 'PWGTP78', 'PWGTP79', 'PWGTP80'],\n",
       "      dtype='object', length=286)"
      ]
     },
     "execution_count": 63,
     "metadata": {},
     "output_type": "execute_result"
    }
   ],
   "source": [
    "data.columns"
   ]
  },
  {
   "cell_type": "markdown",
   "metadata": {},
   "source": [
    "## Filter columns"
   ]
  },
  {
   "cell_type": "code",
   "execution_count": 5,
   "metadata": {},
   "outputs": [],
   "source": [
    "to_collect=['AGEP','REGION','DIVISION','ST','ADJINC','COW','DEAR','MAR',\n",
    "            'DDRS','DEAR','DOUT','DPHY','DRAT','INTP','SEX','RAC1P','POVPIP','PINCP']\n",
    "label = [\"HINS4\"]"
   ]
  },
  {
   "cell_type": "code",
   "execution_count": 182,
   "metadata": {},
   "outputs": [],
   "source": [
    "X = data.loc[:20000, to_collect]\n",
    "y = data.loc[:20000, label]"
   ]
  },
  {
   "cell_type": "code",
   "execution_count": 170,
   "metadata": {},
   "outputs": [
    {
     "data": {
      "text/plain": [
       "(20001, 18)"
      ]
     },
     "execution_count": 170,
     "metadata": {},
     "output_type": "execute_result"
    }
   ],
   "source": [
    "X.shape"
   ]
  },
  {
   "cell_type": "code",
   "execution_count": 171,
   "metadata": {},
   "outputs": [
    {
     "name": "stdout",
     "output_type": "stream",
     "text": [
      "(20001, 18)\n"
     ]
    }
   ],
   "source": [
    "print(X.shape)"
   ]
  },
  {
   "cell_type": "markdown",
   "metadata": {},
   "source": [
    "## Missing Values"
   ]
  },
  {
   "cell_type": "code",
   "execution_count": 172,
   "metadata": {},
   "outputs": [
    {
     "name": "stdout",
     "output_type": "stream",
     "text": [
      "AGEP            0\n",
      "REGION          0\n",
      "DIVISION        0\n",
      "ST              0\n",
      "ADJINC          0\n",
      "COW          9026\n",
      "DEAR            0\n",
      "MAR             0\n",
      "DDRS         1016\n",
      "DEAR            0\n",
      "DOUT         3344\n",
      "DPHY         1016\n",
      "DRAT        19617\n",
      "INTP         3344\n",
      "SEX             0\n",
      "RAC1P           0\n",
      "POVPIP        888\n",
      "PINCP        3344\n",
      "dtype: int64\n"
     ]
    }
   ],
   "source": [
    "missing_values = [\"n/a\", \"na\", \"--\"]\n",
    "print(X.isnull().sum())"
   ]
  },
  {
   "cell_type": "code",
   "execution_count": 173,
   "metadata": {},
   "outputs": [
    {
     "data": {
      "text/plain": [
       "AGEP        False\n",
       "REGION      False\n",
       "DIVISION    False\n",
       "ST          False\n",
       "ADJINC      False\n",
       "COW         False\n",
       "DEAR        False\n",
       "MAR         False\n",
       "DDRS        False\n",
       "DEAR        False\n",
       "DOUT        False\n",
       "DPHY        False\n",
       "DRAT        False\n",
       "INTP        False\n",
       "SEX         False\n",
       "RAC1P       False\n",
       "POVPIP      False\n",
       "PINCP       False\n",
       "dtype: bool"
      ]
     },
     "execution_count": 173,
     "metadata": {},
     "output_type": "execute_result"
    }
   ],
   "source": [
    "X.isin(missing_values).any()"
   ]
  },
  {
   "cell_type": "code",
   "execution_count": 174,
   "metadata": {},
   "outputs": [],
   "source": [
    "X[\"PINCP\"].fillna(0.0, inplace=True)"
   ]
  },
  {
   "cell_type": "code",
   "execution_count": 175,
   "metadata": {},
   "outputs": [
    {
     "name": "stderr",
     "output_type": "stream",
     "text": [
      "C:\\Users\\mchiv\\Anaconda3\\lib\\site-packages\\ipykernel_launcher.py:1: DeprecationWarning: \n",
      ".ix is deprecated. Please use\n",
      ".loc for label based indexing or\n",
      ".iloc for positional indexing\n",
      "\n",
      "See the documentation here:\n",
      "http://pandas.pydata.org/pandas-docs/stable/indexing.html#ix-indexer-is-deprecated\n",
      "  \"\"\"Entry point for launching an IPython kernel.\n"
     ]
    }
   ],
   "source": [
    "X['PINCP'] = X['PINCP'].fillna(X['PINCP'].ix[0.0])"
   ]
  },
  {
   "cell_type": "code",
   "execution_count": 176,
   "metadata": {},
   "outputs": [],
   "source": [
    "X = X.drop(['DRAT'], axis=1)\n"
   ]
  },
  {
   "cell_type": "code",
   "execution_count": 177,
   "metadata": {},
   "outputs": [],
   "source": [
    "X = X.fillna(0.0)"
   ]
  },
  {
   "cell_type": "code",
   "execution_count": 178,
   "metadata": {},
   "outputs": [],
   "source": [
    "y = y"
   ]
  },
  {
   "cell_type": "code",
   "execution_count": 179,
   "metadata": {},
   "outputs": [
    {
     "data": {
      "text/html": [
       "<div>\n",
       "<style scoped>\n",
       "    .dataframe tbody tr th:only-of-type {\n",
       "        vertical-align: middle;\n",
       "    }\n",
       "\n",
       "    .dataframe tbody tr th {\n",
       "        vertical-align: top;\n",
       "    }\n",
       "\n",
       "    .dataframe thead th {\n",
       "        text-align: right;\n",
       "    }\n",
       "</style>\n",
       "<table border=\"1\" class=\"dataframe\">\n",
       "  <thead>\n",
       "    <tr style=\"text-align: right;\">\n",
       "      <th></th>\n",
       "      <th>AGEP</th>\n",
       "      <th>REGION</th>\n",
       "      <th>DIVISION</th>\n",
       "      <th>ST</th>\n",
       "      <th>ADJINC</th>\n",
       "      <th>COW</th>\n",
       "      <th>DEAR</th>\n",
       "      <th>MAR</th>\n",
       "      <th>DDRS</th>\n",
       "      <th>DEAR</th>\n",
       "      <th>DOUT</th>\n",
       "      <th>DPHY</th>\n",
       "      <th>INTP</th>\n",
       "      <th>SEX</th>\n",
       "      <th>RAC1P</th>\n",
       "      <th>POVPIP</th>\n",
       "      <th>PINCP</th>\n",
       "    </tr>\n",
       "  </thead>\n",
       "  <tbody>\n",
       "    <tr>\n",
       "      <th>0</th>\n",
       "      <td>19</td>\n",
       "      <td>3</td>\n",
       "      <td>6</td>\n",
       "      <td>1</td>\n",
       "      <td>1061971</td>\n",
       "      <td>0.0</td>\n",
       "      <td>2</td>\n",
       "      <td>5</td>\n",
       "      <td>2.0</td>\n",
       "      <td>2</td>\n",
       "      <td>2.0</td>\n",
       "      <td>2.0</td>\n",
       "      <td>0.0</td>\n",
       "      <td>2</td>\n",
       "      <td>1</td>\n",
       "      <td>0.0</td>\n",
       "      <td>0.0</td>\n",
       "    </tr>\n",
       "    <tr>\n",
       "      <th>1</th>\n",
       "      <td>55</td>\n",
       "      <td>3</td>\n",
       "      <td>6</td>\n",
       "      <td>1</td>\n",
       "      <td>1061971</td>\n",
       "      <td>1.0</td>\n",
       "      <td>2</td>\n",
       "      <td>1</td>\n",
       "      <td>2.0</td>\n",
       "      <td>2</td>\n",
       "      <td>2.0</td>\n",
       "      <td>2.0</td>\n",
       "      <td>0.0</td>\n",
       "      <td>2</td>\n",
       "      <td>2</td>\n",
       "      <td>501.0</td>\n",
       "      <td>52000.0</td>\n",
       "    </tr>\n",
       "    <tr>\n",
       "      <th>2</th>\n",
       "      <td>56</td>\n",
       "      <td>3</td>\n",
       "      <td>6</td>\n",
       "      <td>1</td>\n",
       "      <td>1061971</td>\n",
       "      <td>6.0</td>\n",
       "      <td>2</td>\n",
       "      <td>1</td>\n",
       "      <td>2.0</td>\n",
       "      <td>2</td>\n",
       "      <td>2.0</td>\n",
       "      <td>2.0</td>\n",
       "      <td>0.0</td>\n",
       "      <td>1</td>\n",
       "      <td>2</td>\n",
       "      <td>501.0</td>\n",
       "      <td>99000.0</td>\n",
       "    </tr>\n",
       "    <tr>\n",
       "      <th>3</th>\n",
       "      <td>21</td>\n",
       "      <td>3</td>\n",
       "      <td>6</td>\n",
       "      <td>1</td>\n",
       "      <td>1061971</td>\n",
       "      <td>0.0</td>\n",
       "      <td>2</td>\n",
       "      <td>5</td>\n",
       "      <td>2.0</td>\n",
       "      <td>2</td>\n",
       "      <td>2.0</td>\n",
       "      <td>2.0</td>\n",
       "      <td>0.0</td>\n",
       "      <td>1</td>\n",
       "      <td>2</td>\n",
       "      <td>501.0</td>\n",
       "      <td>0.0</td>\n",
       "    </tr>\n",
       "    <tr>\n",
       "      <th>4</th>\n",
       "      <td>21</td>\n",
       "      <td>3</td>\n",
       "      <td>6</td>\n",
       "      <td>1</td>\n",
       "      <td>1061971</td>\n",
       "      <td>0.0</td>\n",
       "      <td>2</td>\n",
       "      <td>5</td>\n",
       "      <td>1.0</td>\n",
       "      <td>2</td>\n",
       "      <td>1.0</td>\n",
       "      <td>1.0</td>\n",
       "      <td>0.0</td>\n",
       "      <td>2</td>\n",
       "      <td>2</td>\n",
       "      <td>501.0</td>\n",
       "      <td>0.0</td>\n",
       "    </tr>\n",
       "  </tbody>\n",
       "</table>\n",
       "</div>"
      ],
      "text/plain": [
       "   AGEP  REGION  DIVISION  ST   ADJINC  COW  DEAR  MAR  DDRS  DEAR  DOUT  \\\n",
       "0    19       3         6   1  1061971  0.0     2    5   2.0     2   2.0   \n",
       "1    55       3         6   1  1061971  1.0     2    1   2.0     2   2.0   \n",
       "2    56       3         6   1  1061971  6.0     2    1   2.0     2   2.0   \n",
       "3    21       3         6   1  1061971  0.0     2    5   2.0     2   2.0   \n",
       "4    21       3         6   1  1061971  0.0     2    5   1.0     2   1.0   \n",
       "\n",
       "   DPHY  INTP  SEX  RAC1P  POVPIP    PINCP  \n",
       "0   2.0   0.0    2      1     0.0      0.0  \n",
       "1   2.0   0.0    2      2   501.0  52000.0  \n",
       "2   2.0   0.0    1      2   501.0  99000.0  \n",
       "3   2.0   0.0    1      2   501.0      0.0  \n",
       "4   1.0   0.0    2      2   501.0      0.0  "
      ]
     },
     "execution_count": 179,
     "metadata": {},
     "output_type": "execute_result"
    }
   ],
   "source": [
    "X.head()"
   ]
  },
  {
   "cell_type": "markdown",
   "metadata": {},
   "source": [
    "## Split the data - Train and Test\n",
    "Splitting data into 70% training and 30% test data:"
   ]
  },
  {
   "cell_type": "code",
   "execution_count": 180,
   "metadata": {},
   "outputs": [],
   "source": [
    "X_train, X_test, y_train, y_test = train_test_split(\n",
    "    X, y, test_size=0.3, random_state=0)"
   ]
  },
  {
   "cell_type": "code",
   "execution_count": 181,
   "metadata": {},
   "outputs": [
    {
     "name": "stdout",
     "output_type": "stream",
     "text": [
      "X_train:(14000, 17), X_test: (6001, 17)\n"
     ]
    }
   ],
   "source": [
    "print(f\"X_train:{X_train.shape}, X_test: {X_test.shape}\")"
   ]
  },
  {
   "cell_type": "markdown",
   "metadata": {},
   "source": [
    "## Standardizing the features"
   ]
  },
  {
   "cell_type": "code",
   "execution_count": 131,
   "metadata": {},
   "outputs": [],
   "source": [
    "from sklearn.preprocessing import StandardScaler\n",
    "\n",
    "sc = StandardScaler()\n",
    "sc.fit(X_train)\n",
    "X_train_std = sc.transform(X_train)\n",
    "X_test_std = sc.transform(X_test)"
   ]
  },
  {
   "cell_type": "markdown",
   "metadata": {},
   "source": [
    "## Computing Fairness Model"
   ]
  },
  {
   "cell_type": "code",
   "execution_count": 138,
   "metadata": {},
   "outputs": [],
   "source": [
    "p_1 = X_train[X_train['PINCP']<=20000] ## 20,000k\n",
    "p_0 = X_train[X_train['PINCP']>20000]"
   ]
  },
  {
   "cell_type": "code",
   "execution_count": 139,
   "metadata": {},
   "outputs": [],
   "source": [
    "def compute_t(fairness):\n",
    "    return (1/fairness) - 1\n"
   ]
  },
  {
   "cell_type": "code",
   "execution_count": 162,
   "metadata": {},
   "outputs": [],
   "source": [
    "fairness = [0.2,0.4,0.6,0.8]\n",
    "lambdas = [[5,5], [100,100], [1000,1000]]\n"
   ]
  },
  {
   "cell_type": "code",
   "execution_count": 163,
   "metadata": {},
   "outputs": [],
   "source": [
    "## Fairness matrix\n",
    "# protected attribute - income\n",
    "def get_number(p_set, y, yvalue):\n",
    "    row_index = p_set.index\n",
    "    result = y.loc[row_index]\n",
    "    return float(result[result==yvalue].sum())/y[y==yvalue].sum()\n",
    "\n",
    "prior_matrix = [get_number(p_1,y_train,1),get_number(p_0,y_train,1)]\n"
   ]
  },
  {
   "cell_type": "markdown",
   "metadata": {},
   "source": [
    "## Training Logistic Regression Model"
   ]
  },
  {
   "cell_type": "code",
   "execution_count": 164,
   "metadata": {},
   "outputs": [
    {
     "name": "stdout",
     "output_type": "stream",
     "text": [
      "For Fairness,0.2 => 4.0\n",
      "C: 105.0\n",
      "Coefficient of each feature: [[ 1.32470361e-02 -3.38997702e-01 -5.18667292e-01  0.00000000e+00\n",
      "  -4.73261619e-06 -7.35999360e-02  1.30430769e+00  1.71113924e-01\n",
      "  -7.06512144e-02  1.10520834e+00  7.88841882e-01  1.87989862e+00\n",
      "  -3.61075888e-04  2.75745336e-01 -2.40222371e-01  2.89531906e-03\n",
      "   1.01885935e-04]]\n",
      "Training accuracy: 0.9\n",
      "Test accuracy: 0.9016393442622951\n",
      "\n",
      "C: 2100.0\n",
      "Coefficient of each feature: [[ 3.97662120e-03 -4.48368998e-01 -2.41554319e-01 -1.77172889e+00\n",
      "  -1.44712155e-06 -6.15664302e-02  1.04906846e+00  7.12640656e-02\n",
      "   2.65171925e-01  9.50982675e-01  8.14780308e-01  1.46563042e+00\n",
      "  -3.52480229e-04  2.44958831e-01 -2.34017122e-01  2.77831716e-03\n",
      "   9.56663343e-05]]\n",
      "Training accuracy: 0.9071428571428571\n",
      "Test accuracy: 0.9016393442622951\n",
      "\n",
      "C: 21000.0\n",
      "Coefficient of each feature: [[ 2.93407174e-03 -4.80389322e-01 -2.47815271e-01 -1.53094419e+00\n",
      "  -1.57910507e-06 -5.93395187e-02  7.26576740e-01  5.64317647e-02\n",
      "   3.34409620e-01  1.26307646e+00  8.12942572e-01  1.40316201e+00\n",
      "  -3.53365469e-04  2.56227057e-01 -2.37034663e-01  2.73472708e-03\n",
      "   9.63955235e-05]]\n",
      "Training accuracy: 0.9071428571428571\n",
      "Test accuracy: 0.9016393442622951\n",
      "\n",
      "For Fairness,0.4 => 1.5\n",
      "C: 105.0\n",
      "Coefficient of each feature: [[ 1.32521039e-02 -1.77671886e-01 -5.54671324e-01  0.00000000e+00\n",
      "  -4.98493437e-06 -7.36150174e-02  1.16286375e+00  1.71184891e-01\n",
      "  -7.09051455e-02  1.24671607e+00  7.88678574e-01  1.87998677e+00\n",
      "  -3.61050208e-04  2.75684598e-01 -2.40197383e-01  2.89392466e-03\n",
      "   1.01888622e-04]]\n",
      "Training accuracy: 0.9\n",
      "Test accuracy: 0.9016393442622951\n",
      "\n",
      "C: 2100.0\n",
      "Coefficient of each feature: [[ 9.19960432e-03 -7.40372297e-01 -3.58924970e-01 -1.16192476e+00\n",
      "  -1.60880630e-06 -6.69676366e-02  1.14920828e+00  1.26729084e-01\n",
      "   1.25295142e-01  1.13377524e+00  7.90505417e-01  1.66408194e+00\n",
      "  -3.57868924e-04  2.70272324e-01 -2.39060915e-01  2.81744859e-03\n",
      "   1.00248445e-04]]\n",
      "Training accuracy: 0.9\n",
      "Test accuracy: 0.9016393442622951\n",
      "\n",
      "C: 21000.0\n",
      "Coefficient of each feature: [[ 4.02128463e-03 -4.05238271e-01 -2.76041825e-01 -1.42460480e+00\n",
      "  -1.50627925e-06 -6.02951911e-02  1.16988583e+00  7.05668598e-02\n",
      "   3.48166472e-01  9.26881477e-01  8.02821736e-01  1.40424349e+00\n",
      "  -3.54342175e-04  2.69812870e-01 -2.37019556e-01  2.77629633e-03\n",
      "   9.75623620e-05]]\n",
      "Training accuracy: 0.9071428571428571\n",
      "Test accuracy: 0.9016393442622951\n",
      "\n",
      "For Fairness,0.6 => 0.6666666666666667\n",
      "C: 105.0\n",
      "Coefficient of each feature: [[ 1.12965035e-03 -3.95406233e-01 -2.36291956e-01 -1.33691199e+00\n",
      "  -1.38250544e-06 -5.76029980e-02  6.61250700e-01  3.87434030e-02\n",
      "   3.81864622e-01  1.17664355e+00  8.11757765e-01  1.33599271e+00\n",
      "  -3.51985531e-04  2.39362706e-01 -2.31418635e-01  2.72935542e-03\n",
      "   9.43942598e-05]]\n",
      "Training accuracy: 0.9071428571428571\n",
      "Test accuracy: 0.9016393442622951\n",
      "\n",
      "C: 2100.0\n",
      "Coefficient of each feature: [[ 6.22181026e-03 -6.47938389e-01 -2.69629445e-01 -1.60763568e+00\n",
      "  -1.35645062e-06 -6.25868743e-02  9.71522088e-01  9.45656285e-02\n",
      "   2.58247407e-01  1.15236119e+00  7.91326983e-01  1.51054757e+00\n",
      "  -3.55918218e-04  2.60906129e-01 -2.36907927e-01  2.80533353e-03\n",
      "   9.78309905e-05]]\n",
      "Training accuracy: 0.9071428571428571\n",
      "Test accuracy: 0.9016393442622951\n",
      "\n",
      "C: 21000.0\n",
      "Coefficient of each feature: [[ 1.06066109e-02 -4.63763426e-01 -3.00739635e-01 -1.48768983e+00\n",
      "  -2.13440693e-06 -7.00368745e-02  1.22452042e+00  1.44189995e-01\n",
      "   6.62119396e-02  1.11163448e+00  7.91628503e-01  1.73607672e+00\n",
      "  -3.59673794e-04  2.76646204e-01 -2.39580935e-01  2.83951226e-03\n",
      "   1.01600305e-04]]\n",
      "Training accuracy: 0.9\n",
      "Test accuracy: 0.9016393442622951\n",
      "\n",
      "For Fairness,0.8 => 0.25\n",
      "C: 105.0\n",
      "Coefficient of each feature: [[ 9.36348425e-03 -5.62906184e-01 -3.32148482e-01 -1.64369403e+00\n",
      "  -1.77077327e-06 -6.54262314e-02  1.46280089e+00  1.26919453e-01\n",
      "   1.33079043e-01  8.16000874e-01  7.82152474e-01  1.65907818e+00\n",
      "  -3.57568782e-04  2.74644298e-01 -2.37517435e-01  2.83515984e-03\n",
      "   1.00088453e-04]]\n",
      "Training accuracy: 0.9\n",
      "Test accuracy: 0.9016393442622951\n",
      "\n",
      "C: 2100.0\n",
      "Coefficient of each feature: [[ 4.47139471e-03 -5.20604813e-01 -2.63469841e-01 -9.79176127e-01\n",
      "  -1.93610466e-06 -6.01798594e-02  1.03907195e+00  7.16830613e-02\n",
      "   3.19211571e-01  1.04942219e+00  7.95807460e-01  1.43774423e+00\n",
      "  -3.54128924e-04  2.53440404e-01 -2.34968467e-01  2.74439295e-03\n",
      "   9.80509762e-05]]\n",
      "Training accuracy: 0.9071428571428571\n",
      "Test accuracy: 0.9016393442622951\n",
      "\n",
      "C: 21000.0\n",
      "Coefficient of each feature: [[ 1.29657794e-02 -4.79154204e-01 -3.36338079e-01 -2.03660376e+00\n",
      "  -1.93321121e-06 -7.36259865e-02  1.21296919e+00  1.68354522e-01\n",
      "  -5.58227689e-02  1.19932803e+00  7.89802797e-01  1.86759979e+00\n",
      "  -3.61284846e-04  2.80855050e-01 -2.40810954e-01  2.88636939e-03\n",
      "   1.02184994e-04]]\n",
      "Training accuracy: 0.9\n",
      "Test accuracy: 0.9016393442622951\n",
      "\n"
     ]
    },
    {
     "name": "stderr",
     "output_type": "stream",
     "text": [
      "C:\\Users\\mchiv\\Anaconda3\\lib\\site-packages\\sklearn\\utils\\validation.py:578: DataConversionWarning: A column-vector y was passed when a 1d array was expected. Please change the shape of y to (n_samples, ), for example using ravel().\n",
      "  y = column_or_1d(y, warn=True)\n"
     ]
    }
   ],
   "source": [
    "from sklearn.linear_model import LogisticRegression\n",
    "\n",
    "for f in fairness:\n",
    "    t = compute_t(f)\n",
    "    print(f\"For Fairness,{f} => {t}\")\n",
    "    prior1 = prior_matrix[0] - (1/(1+t))\n",
    "    prior2 = prior_matrix[1] - (t/(1+t))\n",
    "    for (l1,l2) in lambdas:\n",
    "        c = (l1*prior1 + l2*prior2)\n",
    "        clf = LogisticRegression(C=c)\n",
    "        clf.fit(X_train, y_train)\n",
    "        print('C:', c)\n",
    "        print('Coefficient of each feature:', clf.coef_)\n",
    "        print('Training accuracy:', clf.score(X_train, y_train))\n",
    "        print('Test accuracy:', clf.score(X_test, y_test))\n",
    "        print('')"
   ]
  },
  {
   "cell_type": "code",
   "execution_count": null,
   "metadata": {},
   "outputs": [],
   "source": []
  }
 ],
 "metadata": {
  "kernelspec": {
   "display_name": "Python 3",
   "language": "python",
   "name": "python3"
  },
  "language_info": {
   "codemirror_mode": {
    "name": "ipython",
    "version": 3
   },
   "file_extension": ".py",
   "mimetype": "text/x-python",
   "name": "python",
   "nbconvert_exporter": "python",
   "pygments_lexer": "ipython3",
   "version": "3.6.4"
  }
 },
 "nbformat": 4,
 "nbformat_minor": 2
}
