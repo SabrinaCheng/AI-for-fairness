{
 "cells": [
  {
   "cell_type": "markdown",
   "metadata": {},
   "source": [
    "doc: https://www2.census.gov/programs-surveys/acs/tech_docs/pums/data_dict/PUMS_Data_Dictionary_2013-2017.pdf?fbclid=IwAR1yvvDS-8yfSKGV77mPkHlwdb8FIGD80Zd4h7xPude0SDw6--X4HNxTeNo"
   ]
  },
  {
   "cell_type": "code",
   "execution_count": 123,
   "metadata": {},
   "outputs": [
    {
     "name": "stderr",
     "output_type": "stream",
     "text": [
      "/Users/littletree/anaconda3/envs/py36/lib/python3.6/site-packages/sklearn/ensemble/weight_boosting.py:29: DeprecationWarning: numpy.core.umath_tests is an internal NumPy module and should not be imported. It will be removed in a future NumPy release.\n",
      "  from numpy.core.umath_tests import inner1d\n"
     ]
    }
   ],
   "source": [
    "import numpy as np\n",
    "import pandas as pd\n",
    "import matplotlib.pyplot as plt\n",
    "%matplotlib inline\n",
    "import seaborn as sns\n",
    "from sklearn.model_selection import train_test_split\n",
    "from sklearn.linear_model import LogisticRegression\n",
    "from sklearn import metrics\n",
    "from sklearn.ensemble import RandomForestClassifier"
   ]
  },
  {
   "cell_type": "markdown",
   "metadata": {},
   "source": [
    "#### read data"
   ]
  },
  {
   "cell_type": "code",
   "execution_count": 2,
   "metadata": {
    "collapsed": true
   },
   "outputs": [],
   "source": [
    "df_a = pd.read_csv(\"csv_hus/psam_husa.csv\")\n",
    "# print(list(df_a))"
   ]
  },
  {
   "cell_type": "code",
   "execution_count": 3,
   "metadata": {
    "collapsed": true
   },
   "outputs": [],
   "source": [
    "df_b = pd.read_csv(\"csv_hus/psam_husb.csv\")\n",
    "# print(list(df_b))"
   ]
  },
  {
   "cell_type": "code",
   "execution_count": 4,
   "metadata": {
    "collapsed": true
   },
   "outputs": [],
   "source": [
    "df_c = pd.read_csv(\"csv_hus/psam_husc.csv\")\n",
    "# print(list(df_c))"
   ]
  },
  {
   "cell_type": "code",
   "execution_count": 5,
   "metadata": {},
   "outputs": [
    {
     "name": "stdout",
     "output_type": "stream",
     "text": [
      "['RT', 'SERIALNO', 'DIVISION', 'PUMA', 'REGION', 'ST', 'ADJHSG', 'ADJINC', 'WGTP', 'NP', 'TYPE', 'ACCESS', 'ACR', 'AGS', 'BATH', 'BDSP', 'BLD', 'BUS', 'BROADBND', 'COMPOTHX', 'CONP', 'DIALUP', 'ELEP', 'FS', 'FULP', 'GASP', 'HFL', 'HISPEED', 'HOTWAT', 'INSP', 'LAPTOP', 'MHP', 'MRGI', 'MRGP', 'MRGT', 'MRGX', 'OTHSVCEX', 'REFR', 'RMSP', 'RNTM', 'RNTP', 'RWAT', 'RWATPR', 'SATELLITE', 'SINK', 'SMARTPHONE', 'SMP', 'STOV', 'TABLET', 'TEL', 'TEN', 'TOIL', 'VACS', 'VALP', 'VEH', 'WATP', 'YBL', 'FES', 'FINCP', 'FPARC', 'GRNTP', 'GRPIP', 'HHL', 'HHT', 'HINCP', 'HUGCL', 'HUPAC', 'HUPAOC', 'HUPARC', 'KIT', 'LNGI', 'MULTG', 'MV', 'NOC', 'NPF', 'NPP', 'NR', 'NRC', 'OCPIP', 'PARTNER', 'PLM', 'PLMPRP', 'PSF', 'R18', 'R60', 'R65', 'RESMODE', 'SMOCP', 'SMX', 'SRNT', 'SSMC', 'SVAL', 'TAXP', 'WIF', 'WKEXREL', 'WORKSTAT', 'FACCESSP', 'FACRP', 'FAGSP', 'FBATHP', 'FBDSP', 'FBLDP', 'FBROADBNDP', 'FCOMPOTHXP', 'FBUSP', 'FCONP', 'FDIALUPP', 'FELEP', 'FFINCP', 'FFSP', 'FFULP', 'FGASP', 'FGRNTP', 'FHFLP', 'FHINCP', 'FHISPEEDP', 'FHOTWATP', 'FINSP', 'FKITP', 'FLAPTOPP', 'FMHP', 'FMRGIP', 'FMRGP', 'FMRGTP', 'FMRGXP', 'FMVP', 'FOTHSVCEXP', 'FPLMP', 'FPLMPRP', 'FREFRP', 'FRMSP', 'FRNTMP', 'FRNTP', 'FRWATP', 'FRWATPRP', 'FSATELLITEP', 'FSINKP', 'FSMARTPHONP', 'FSMOCP', 'FSMP', 'FSMXHP', 'FSMXSP', 'FSTOVP', 'FTABLETP', 'FTAXP', 'FTELP', 'FTENP', 'FTOILP', 'FVACSP', 'FVALP', 'FVEHP', 'FWATP', 'FYBLP', 'WGTP1', 'WGTP2', 'WGTP3', 'WGTP4', 'WGTP5', 'WGTP6', 'WGTP7', 'WGTP8', 'WGTP9', 'WGTP10', 'WGTP11', 'WGTP12', 'WGTP13', 'WGTP14', 'WGTP15', 'WGTP16', 'WGTP17', 'WGTP18', 'WGTP19', 'WGTP20', 'WGTP21', 'WGTP22', 'WGTP23', 'WGTP24', 'WGTP25', 'WGTP26', 'WGTP27', 'WGTP28', 'WGTP29', 'WGTP30', 'WGTP31', 'WGTP32', 'WGTP33', 'WGTP34', 'WGTP35', 'WGTP36', 'WGTP37', 'WGTP38', 'WGTP39', 'WGTP40', 'WGTP41', 'WGTP42', 'WGTP43', 'WGTP44', 'WGTP45', 'WGTP46', 'WGTP47', 'WGTP48', 'WGTP49', 'WGTP50', 'WGTP51', 'WGTP52', 'WGTP53', 'WGTP54', 'WGTP55', 'WGTP56', 'WGTP57', 'WGTP58', 'WGTP59', 'WGTP60', 'WGTP61', 'WGTP62', 'WGTP63', 'WGTP64', 'WGTP65', 'WGTP66', 'WGTP67', 'WGTP68', 'WGTP69', 'WGTP70', 'WGTP71', 'WGTP72', 'WGTP73', 'WGTP74', 'WGTP75', 'WGTP76', 'WGTP77', 'WGTP78', 'WGTP79', 'WGTP80']\n"
     ]
    }
   ],
   "source": [
    "df_d = pd.read_csv(\"csv_hus/psam_husd.csv\")\n",
    "df_d.head()\n",
    "print(list(df_d))"
   ]
  },
  {
   "cell_type": "code",
   "execution_count": 7,
   "metadata": {},
   "outputs": [
    {
     "name": "stdout",
     "output_type": "stream",
     "text": [
      "n= 7487361\n",
      "shape= (7487361, 233)\n"
     ]
    },
    {
     "data": {
      "text/plain": [
       "7487361"
      ]
     },
     "execution_count": 7,
     "metadata": {},
     "output_type": "execute_result"
    }
   ],
   "source": [
    "# cal n\n",
    "print('n =', df_a.shape[0] + df_b.shape[0] + df_c.shape[0] + df_d.shape[0])\n",
    "# concat dfs\n",
    "df = pd.concat([df_a, df_b, df_c, df_d])\n",
    "print('shape =', df.shape)\n",
    "# check unique\n",
    "df['SERIALNO'].nunique()"
   ]
  },
  {
   "cell_type": "markdown",
   "metadata": {},
   "source": [
    "### feature selection\n",
    "#### to_use : <br>\n",
    "ST - State code based on 2010 Census definitions,<br> \n",
    "ADJINC - Adjustment factor for income and earnings dollar amounts (6 implied decimal places),<br> \n",
    "NP - Number of persons associated with this housing record,<br> \n",
    "FES - Family type and employment status,<br> \n",
    "FINCP - Family income (past 12 months, use ADJINC to adjust FINCP to constant dollars),<br> \n",
    "NRC - Number of related children in household (unweighted),<br> \n",
    "OCPIP - Selected monthly owner costs as a percentage of household income during the past 12 months <br>\n",
    "#### y : <br>\n",
    "FS - Yearly food stamp/Supplemental Nutrition Assistance Program (SNAP) recipiency, <br>\n",
    "FFSP - Yearly food stamp/Supplemental Nutrition Assistance Program (SNAP) recipiency allocation flag<br>\n",
    "#### optional : <br>\n",
    "VEH, yearly ex(FULP, GASP, HFL, INSP, MHP, RNTPx12, SMPx12, WATP), TAXP, WORKSTAT, AGEP <br>"
   ]
  },
  {
   "cell_type": "markdown",
   "metadata": {},
   "source": [
    "### possible targets\n",
    "#### HINS4 (x)\n",
    "Medicaid, Medical Assistance, or any kind of government-assistance plan for those with low incomes or a disability<br>\n",
    "1 .Yes<br> \n",
    "2 .No<br>\n",
    "#### FHINS4P (x)\n",
    "Medicaid, medical assistance, or any kind of government-assistance plan for people with low incomes or a disability allocation flag<br>\n",
    "0 .No<br>\n",
    "1 .Yes<br>\n",
    "#### FS (v)\n",
    "Yearly food stamp/Supplemental Nutrition Assistance Program (SNAP) recipiency<br>\n",
    "b .N/A (vacant)<br>\n",
    "1 .Yes<br>\n",
    "2 .No<br>\n",
    "#### FFSP (v)\n",
    "Yearly food stamp/Supplemental Nutrition Assistance Program (SNAP) recipiency allocation flag<br>\n",
    "0 .No<br> \n",
    "1 .Yes<br>\n",
    "#### FPAP (x)\n",
    "Public assistance income allocation flag<br>\n",
    "0 .No<br>\n",
    "1 .Yes<br>"
   ]
  },
  {
   "cell_type": "markdown",
   "metadata": {},
   "source": [
    "### exploratory data analysis"
   ]
  },
  {
   "cell_type": "code",
   "execution_count": 8,
   "metadata": {},
   "outputs": [
    {
     "data": {
      "text/html": [
       "<div>\n",
       "<style>\n",
       "    .dataframe thead tr:only-child th {\n",
       "        text-align: right;\n",
       "    }\n",
       "\n",
       "    .dataframe thead th {\n",
       "        text-align: left;\n",
       "    }\n",
       "\n",
       "    .dataframe tbody tr th {\n",
       "        vertical-align: top;\n",
       "    }\n",
       "</style>\n",
       "<table border=\"1\" class=\"dataframe\">\n",
       "  <thead>\n",
       "    <tr>\n",
       "      <th></th>\n",
       "      <th></th>\n",
       "      <th colspan=\"2\" halign=\"left\">amin</th>\n",
       "      <th colspan=\"2\" halign=\"left\">mean</th>\n",
       "      <th colspan=\"2\" halign=\"left\">amax</th>\n",
       "    </tr>\n",
       "    <tr>\n",
       "      <th></th>\n",
       "      <th></th>\n",
       "      <th>ADJINC</th>\n",
       "      <th>FINCP</th>\n",
       "      <th>ADJINC</th>\n",
       "      <th>FINCP</th>\n",
       "      <th>ADJINC</th>\n",
       "      <th>FINCP</th>\n",
       "    </tr>\n",
       "    <tr>\n",
       "      <th>FS</th>\n",
       "      <th>FFSP</th>\n",
       "      <th></th>\n",
       "      <th></th>\n",
       "      <th></th>\n",
       "      <th></th>\n",
       "      <th></th>\n",
       "      <th></th>\n",
       "    </tr>\n",
       "  </thead>\n",
       "  <tbody>\n",
       "    <tr>\n",
       "      <th rowspan=\"2\" valign=\"top\">1.0</th>\n",
       "      <th>0</th>\n",
       "      <td>1011189</td>\n",
       "      <td>-16400.0</td>\n",
       "      <td>1.037457e+06</td>\n",
       "      <td>35913.090197</td>\n",
       "      <td>1061971</td>\n",
       "      <td>3164000.0</td>\n",
       "    </tr>\n",
       "    <tr>\n",
       "      <th>1</th>\n",
       "      <td>1011189</td>\n",
       "      <td>-5400.0</td>\n",
       "      <td>1.036512e+06</td>\n",
       "      <td>42653.214567</td>\n",
       "      <td>1061971</td>\n",
       "      <td>683400.0</td>\n",
       "    </tr>\n",
       "    <tr>\n",
       "      <th rowspan=\"2\" valign=\"top\">2.0</th>\n",
       "      <th>0</th>\n",
       "      <td>1011189</td>\n",
       "      <td>-21500.0</td>\n",
       "      <td>1.036483e+06</td>\n",
       "      <td>102542.590238</td>\n",
       "      <td>1061971</td>\n",
       "      <td>2186200.0</td>\n",
       "    </tr>\n",
       "    <tr>\n",
       "      <th>1</th>\n",
       "      <td>1011189</td>\n",
       "      <td>-5800.0</td>\n",
       "      <td>1.035597e+06</td>\n",
       "      <td>86245.091037</td>\n",
       "      <td>1061971</td>\n",
       "      <td>1331000.0</td>\n",
       "    </tr>\n",
       "  </tbody>\n",
       "</table>\n",
       "</div>"
      ],
      "text/plain": [
       "             amin                   mean                    amax           \n",
       "           ADJINC    FINCP        ADJINC          FINCP   ADJINC      FINCP\n",
       "FS  FFSP                                                                   \n",
       "1.0 0     1011189 -16400.0  1.037457e+06   35913.090197  1061971  3164000.0\n",
       "    1     1011189  -5400.0  1.036512e+06   42653.214567  1061971   683400.0\n",
       "2.0 0     1011189 -21500.0  1.036483e+06  102542.590238  1061971  2186200.0\n",
       "    1     1011189  -5800.0  1.035597e+06   86245.091037  1061971  1331000.0"
      ]
     },
     "execution_count": 8,
     "metadata": {},
     "output_type": "execute_result"
    }
   ],
   "source": [
    "pd.pivot_table(df, values=['ADJINC', 'FINCP'], index=['FS', 'FFSP'], aggfunc=[np.min, np.mean, np.max])"
   ]
  },
  {
   "cell_type": "code",
   "execution_count": 9,
   "metadata": {},
   "outputs": [
    {
     "data": {
      "text/plain": [
       "count    4.805550e+05\n",
       "mean     3.603788e+04\n",
       "std      4.219986e+04\n",
       "min     -1.640000e+04\n",
       "25%      1.300000e+04\n",
       "50%      2.460000e+04\n",
       "75%      4.500000e+04\n",
       "max      3.164000e+06\n",
       "Name: FINCP, dtype: float64"
      ]
     },
     "execution_count": 9,
     "metadata": {},
     "output_type": "execute_result"
    }
   ],
   "source": [
    "df[df[\"FS\"]==1][\"FINCP\"].describe() # FS_y"
   ]
  },
  {
   "cell_type": "code",
   "execution_count": 10,
   "metadata": {},
   "outputs": [
    {
     "data": {
      "text/plain": [
       "count    3.604400e+06\n",
       "mean     1.022982e+05\n",
       "std      9.784668e+04\n",
       "min     -2.150000e+04\n",
       "25%      4.590000e+04\n",
       "50%      7.700000e+04\n",
       "75%      1.235000e+05\n",
       "max      2.186200e+06\n",
       "Name: FINCP, dtype: float64"
      ]
     },
     "execution_count": 10,
     "metadata": {},
     "output_type": "execute_result"
    }
   ],
   "source": [
    "df[df[\"FS\"]==2][\"FINCP\"].describe() #FS_n"
   ]
  },
  {
   "cell_type": "code",
   "execution_count": 11,
   "metadata": {},
   "outputs": [
    {
     "data": {
      "image/png": "[encoded data removed]",
      "text/plain": [
       "<matplotlib.figure.Figure at 0x11a306e80>"
      ]
     },
     "metadata": {},
     "output_type": "display_data"
    }
   ],
   "source": [
    "plt.hist(df[df[\"FS\"]==1][\"FINCP\"].dropna(), bins=100, alpha=0.6, label=\"FS_y\")\n",
    "plt.hist(df[df[\"FS\"]==2][\"FINCP\"].dropna(), bins=100, alpha=0.6, label=\"FS_n\")\n",
    "plt.legend()\n",
    "plt.show()"
   ]
  },
  {
   "cell_type": "code",
   "execution_count": 12,
   "metadata": {},
   "outputs": [
    {
     "data": {
      "text/plain": [
       "count    7.076720e+05\n",
       "mean     3.228250e+04\n",
       "std      4.058255e+04\n",
       "min     -1.640000e+04\n",
       "25%      1.020000e+04\n",
       "50%      2.000000e+04\n",
       "75%      4.000000e+04\n",
       "max      3.209000e+06\n",
       "Name: HINCP, dtype: float64"
      ]
     },
     "execution_count": 12,
     "metadata": {},
     "output_type": "execute_result"
    }
   ],
   "source": [
    "df[df[\"FS\"]==1][\"HINCP\"].describe() # FS_y"
   ]
  },
  {
   "cell_type": "code",
   "execution_count": 13,
   "metadata": {},
   "outputs": [
    {
     "data": {
      "text/plain": [
       "count    5.424552e+06\n",
       "mean     8.661534e+04\n",
       "std      9.070665e+04\n",
       "min     -2.150000e+04\n",
       "25%      3.390000e+04\n",
       "50%      6.267000e+04\n",
       "75%      1.070000e+05\n",
       "max      2.186200e+06\n",
       "Name: HINCP, dtype: float64"
      ]
     },
     "execution_count": 13,
     "metadata": {},
     "output_type": "execute_result"
    }
   ],
   "source": [
    "df[df[\"FS\"]==2][\"HINCP\"].describe() #FS_n"
   ]
  },
  {
   "cell_type": "code",
   "execution_count": 14,
   "metadata": {},
   "outputs": [
    {
     "data": {
      "image/png": "[encoded data removed]",
      "text/plain": [
       "<matplotlib.figure.Figure at 0x11a3d65f8>"
      ]
     },
     "metadata": {},
     "output_type": "display_data"
    }
   ],
   "source": [
    "plt.hist(df[df[\"FS\"]==1][\"HINCP\"].dropna(), bins=100, alpha=0.6, label=\"FS_y\")\n",
    "plt.hist(df[df[\"FS\"]==2][\"HINCP\"].dropna(), bins=100, alpha=0.6, label=\"FS_n\")\n",
    "plt.legend()\n",
    "plt.show()"
   ]
  },
  {
   "cell_type": "markdown",
   "metadata": {},
   "source": [
    "### preprocessing"
   ]
  },
  {
   "cell_type": "code",
   "execution_count": 15,
   "metadata": {},
   "outputs": [
    {
     "data": {
      "text/plain": [
       "['ST', 'ADJINC', 'NP', 'FS', 'FES', 'FINCP', 'NRC', 'OCPIP', 'FFSP']"
      ]
     },
     "execution_count": 15,
     "metadata": {},
     "output_type": "execute_result"
    }
   ],
   "source": [
    "to_use = ['ST', 'ADJINC', 'NP', 'FES', 'FINCP', 'NRC', 'OCPIP', 'FS', 'FFSP']\n",
    "# y : FS, FFSP\n",
    "# check whether variables exist\n",
    "[i for i in list(df_a) if i in to_use]"
   ]
  },
  {
   "cell_type": "code",
   "execution_count": 16,
   "metadata": {
    "scrolled": true
   },
   "outputs": [
    {
     "name": "stdout",
     "output_type": "stream",
     "text": [
      "(7487361, 9) (3096756, 9)\n"
     ]
    },
    {
     "data": {
      "text/html": [
       "<div>\n",
       "<style>\n",
       "    .dataframe thead tr:only-child th {\n",
       "        text-align: right;\n",
       "    }\n",
       "\n",
       "    .dataframe thead th {\n",
       "        text-align: left;\n",
       "    }\n",
       "\n",
       "    .dataframe tbody tr th {\n",
       "        vertical-align: top;\n",
       "    }\n",
       "</style>\n",
       "<table border=\"1\" class=\"dataframe\">\n",
       "  <thead>\n",
       "    <tr style=\"text-align: right;\">\n",
       "      <th></th>\n",
       "      <th>ST</th>\n",
       "      <th>ADJINC</th>\n",
       "      <th>NP</th>\n",
       "      <th>FES</th>\n",
       "      <th>FINCP</th>\n",
       "      <th>NRC</th>\n",
       "      <th>OCPIP</th>\n",
       "      <th>FS</th>\n",
       "      <th>FFSP</th>\n",
       "    </tr>\n",
       "  </thead>\n",
       "  <tbody>\n",
       "    <tr>\n",
       "      <th>1</th>\n",
       "      <td>1</td>\n",
       "      <td>1061971</td>\n",
       "      <td>4</td>\n",
       "      <td>1.0</td>\n",
       "      <td>151000.0</td>\n",
       "      <td>0.0</td>\n",
       "      <td>3.0</td>\n",
       "      <td>2.0</td>\n",
       "      <td>0</td>\n",
       "    </tr>\n",
       "    <tr>\n",
       "      <th>6</th>\n",
       "      <td>1</td>\n",
       "      <td>1061971</td>\n",
       "      <td>2</td>\n",
       "      <td>1.0</td>\n",
       "      <td>136000.0</td>\n",
       "      <td>0.0</td>\n",
       "      <td>13.0</td>\n",
       "      <td>2.0</td>\n",
       "      <td>0</td>\n",
       "    </tr>\n",
       "    <tr>\n",
       "      <th>7</th>\n",
       "      <td>1</td>\n",
       "      <td>1061971</td>\n",
       "      <td>2</td>\n",
       "      <td>4.0</td>\n",
       "      <td>52600.0</td>\n",
       "      <td>0.0</td>\n",
       "      <td>8.0</td>\n",
       "      <td>2.0</td>\n",
       "      <td>0</td>\n",
       "    </tr>\n",
       "    <tr>\n",
       "      <th>9</th>\n",
       "      <td>1</td>\n",
       "      <td>1061971</td>\n",
       "      <td>2</td>\n",
       "      <td>1.0</td>\n",
       "      <td>81600.0</td>\n",
       "      <td>0.0</td>\n",
       "      <td>13.0</td>\n",
       "      <td>2.0</td>\n",
       "      <td>0</td>\n",
       "    </tr>\n",
       "    <tr>\n",
       "      <th>14</th>\n",
       "      <td>1</td>\n",
       "      <td>1061971</td>\n",
       "      <td>2</td>\n",
       "      <td>1.0</td>\n",
       "      <td>35000.0</td>\n",
       "      <td>0.0</td>\n",
       "      <td>10.0</td>\n",
       "      <td>2.0</td>\n",
       "      <td>0</td>\n",
       "    </tr>\n",
       "  </tbody>\n",
       "</table>\n",
       "</div>"
      ],
      "text/plain": [
       "    ST   ADJINC  NP  FES     FINCP  NRC  OCPIP   FS  FFSP\n",
       "1    1  1061971   4  1.0  151000.0  0.0    3.0  2.0     0\n",
       "6    1  1061971   2  1.0  136000.0  0.0   13.0  2.0     0\n",
       "7    1  1061971   2  4.0   52600.0  0.0    8.0  2.0     0\n",
       "9    1  1061971   2  1.0   81600.0  0.0   13.0  2.0     0\n",
       "14   1  1061971   2  1.0   35000.0  0.0   10.0  2.0     0"
      ]
     },
     "execution_count": 16,
     "metadata": {},
     "output_type": "execute_result"
    }
   ],
   "source": [
    "# drop na\n",
    "data = df[to_use]\n",
    "data_rna = df[to_use].dropna(axis=0, how='any')\n",
    "print(data.shape, data_rna.shape)\n",
    "data_rna.head()"
   ]
  },
  {
   "cell_type": "code",
   "execution_count": 37,
   "metadata": {
    "scrolled": true
   },
   "outputs": [
    {
     "data": {
      "text/plain": [
       "<matplotlib.axes._subplots.AxesSubplot at 0x10da81860>"
      ]
     },
     "execution_count": 37,
     "metadata": {},
     "output_type": "execute_result"
    },
    {
     "data": {
      "image/png": "[encoded data removed]",
      "text/plain": [
       "<matplotlib.figure.Figure at 0x119fa0da0>"
      ]
     },
     "metadata": {},
     "output_type": "display_data"
    }
   ],
   "source": [
    "data_rna['ST'].value_counts().plot.bar()"
   ]
  },
  {
   "cell_type": "code",
   "execution_count": 40,
   "metadata": {
    "scrolled": true
   },
   "outputs": [
    {
     "data": {
      "text/plain": [
       "<matplotlib.axes._subplots.AxesSubplot at 0x11a2925c0>"
      ]
     },
     "execution_count": 40,
     "metadata": {},
     "output_type": "execute_result"
    },
    {
     "data": {
      "image/png": "[encoded data removed]",
      "text/plain": [
       "<matplotlib.figure.Figure at 0x11a2b9b38>"
      ]
     },
     "metadata": {},
     "output_type": "display_data"
    }
   ],
   "source": [
    "data_rna['NP'].value_counts().plot.bar()"
   ]
  },
  {
   "cell_type": "code",
   "execution_count": 45,
   "metadata": {
    "scrolled": true
   },
   "outputs": [
    {
     "data": {
      "text/plain": [
       "<matplotlib.axes._subplots.AxesSubplot at 0x10daca6a0>"
      ]
     },
     "execution_count": 45,
     "metadata": {},
     "output_type": "execute_result"
    },
    {
     "data": {
      "image/png": "[encoded data removed]",
      "text/plain": [
       "<matplotlib.figure.Figure at 0x10daa82e8>"
      ]
     },
     "metadata": {},
     "output_type": "display_data"
    }
   ],
   "source": [
    "data_rna['FES'].value_counts().plot.pie()"
   ]
  },
  {
   "cell_type": "code",
   "execution_count": 46,
   "metadata": {},
   "outputs": [
    {
     "data": {
      "text/plain": [
       "<matplotlib.axes._subplots.AxesSubplot at 0x11a49aa20>"
      ]
     },
     "execution_count": 46,
     "metadata": {},
     "output_type": "execute_result"
    },
    {
     "data": {
      "image/png": "[encoded data removed]",
      "text/plain": [
       "<matplotlib.figure.Figure at 0x118664278>"
      ]
     },
     "metadata": {},
     "output_type": "display_data"
    }
   ],
   "source": [
    "data_rna['NRC'].value_counts().plot.pie()"
   ]
  },
  {
   "cell_type": "markdown",
   "metadata": {},
   "source": [
    "### one-hot encoding"
   ]
  },
  {
   "cell_type": "code",
   "execution_count": 88,
   "metadata": {
    "scrolled": true
   },
   "outputs": [
    {
     "data": {
      "text/html": [
       "<div>\n",
       "<style>\n",
       "    .dataframe thead tr:only-child th {\n",
       "        text-align: right;\n",
       "    }\n",
       "\n",
       "    .dataframe thead th {\n",
       "        text-align: left;\n",
       "    }\n",
       "\n",
       "    .dataframe tbody tr th {\n",
       "        vertical-align: top;\n",
       "    }\n",
       "</style>\n",
       "<table border=\"1\" class=\"dataframe\">\n",
       "  <thead>\n",
       "    <tr style=\"text-align: right;\">\n",
       "      <th></th>\n",
       "      <th>NP</th>\n",
       "      <th>FINCP</th>\n",
       "      <th>NRC</th>\n",
       "      <th>OCPIP</th>\n",
       "      <th>FS</th>\n",
       "      <th>FFSP</th>\n",
       "      <th>ST_1</th>\n",
       "      <th>ST_2</th>\n",
       "      <th>ST_4</th>\n",
       "      <th>ST_5</th>\n",
       "      <th>...</th>\n",
       "      <th>ADJINC_1045195</th>\n",
       "      <th>ADJINC_1061971</th>\n",
       "      <th>FES_1.0</th>\n",
       "      <th>FES_2.0</th>\n",
       "      <th>FES_3.0</th>\n",
       "      <th>FES_4.0</th>\n",
       "      <th>FES_5.0</th>\n",
       "      <th>FES_6.0</th>\n",
       "      <th>FES_7.0</th>\n",
       "      <th>FES_8.0</th>\n",
       "    </tr>\n",
       "  </thead>\n",
       "  <tbody>\n",
       "    <tr>\n",
       "      <th>1</th>\n",
       "      <td>4</td>\n",
       "      <td>151000.0</td>\n",
       "      <td>0.0</td>\n",
       "      <td>3.0</td>\n",
       "      <td>0.0</td>\n",
       "      <td>0</td>\n",
       "      <td>1</td>\n",
       "      <td>0</td>\n",
       "      <td>0</td>\n",
       "      <td>0</td>\n",
       "      <td>...</td>\n",
       "      <td>0</td>\n",
       "      <td>1</td>\n",
       "      <td>1</td>\n",
       "      <td>0</td>\n",
       "      <td>0</td>\n",
       "      <td>0</td>\n",
       "      <td>0</td>\n",
       "      <td>0</td>\n",
       "      <td>0</td>\n",
       "      <td>0</td>\n",
       "    </tr>\n",
       "    <tr>\n",
       "      <th>6</th>\n",
       "      <td>2</td>\n",
       "      <td>136000.0</td>\n",
       "      <td>0.0</td>\n",
       "      <td>13.0</td>\n",
       "      <td>0.0</td>\n",
       "      <td>0</td>\n",
       "      <td>1</td>\n",
       "      <td>0</td>\n",
       "      <td>0</td>\n",
       "      <td>0</td>\n",
       "      <td>...</td>\n",
       "      <td>0</td>\n",
       "      <td>1</td>\n",
       "      <td>1</td>\n",
       "      <td>0</td>\n",
       "      <td>0</td>\n",
       "      <td>0</td>\n",
       "      <td>0</td>\n",
       "      <td>0</td>\n",
       "      <td>0</td>\n",
       "      <td>0</td>\n",
       "    </tr>\n",
       "    <tr>\n",
       "      <th>7</th>\n",
       "      <td>2</td>\n",
       "      <td>52600.0</td>\n",
       "      <td>0.0</td>\n",
       "      <td>8.0</td>\n",
       "      <td>0.0</td>\n",
       "      <td>0</td>\n",
       "      <td>1</td>\n",
       "      <td>0</td>\n",
       "      <td>0</td>\n",
       "      <td>0</td>\n",
       "      <td>...</td>\n",
       "      <td>0</td>\n",
       "      <td>1</td>\n",
       "      <td>0</td>\n",
       "      <td>0</td>\n",
       "      <td>0</td>\n",
       "      <td>1</td>\n",
       "      <td>0</td>\n",
       "      <td>0</td>\n",
       "      <td>0</td>\n",
       "      <td>0</td>\n",
       "    </tr>\n",
       "    <tr>\n",
       "      <th>9</th>\n",
       "      <td>2</td>\n",
       "      <td>81600.0</td>\n",
       "      <td>0.0</td>\n",
       "      <td>13.0</td>\n",
       "      <td>0.0</td>\n",
       "      <td>0</td>\n",
       "      <td>1</td>\n",
       "      <td>0</td>\n",
       "      <td>0</td>\n",
       "      <td>0</td>\n",
       "      <td>...</td>\n",
       "      <td>0</td>\n",
       "      <td>1</td>\n",
       "      <td>1</td>\n",
       "      <td>0</td>\n",
       "      <td>0</td>\n",
       "      <td>0</td>\n",
       "      <td>0</td>\n",
       "      <td>0</td>\n",
       "      <td>0</td>\n",
       "      <td>0</td>\n",
       "    </tr>\n",
       "    <tr>\n",
       "      <th>14</th>\n",
       "      <td>2</td>\n",
       "      <td>35000.0</td>\n",
       "      <td>0.0</td>\n",
       "      <td>10.0</td>\n",
       "      <td>0.0</td>\n",
       "      <td>0</td>\n",
       "      <td>1</td>\n",
       "      <td>0</td>\n",
       "      <td>0</td>\n",
       "      <td>0</td>\n",
       "      <td>...</td>\n",
       "      <td>0</td>\n",
       "      <td>1</td>\n",
       "      <td>1</td>\n",
       "      <td>0</td>\n",
       "      <td>0</td>\n",
       "      <td>0</td>\n",
       "      <td>0</td>\n",
       "      <td>0</td>\n",
       "      <td>0</td>\n",
       "      <td>0</td>\n",
       "    </tr>\n",
       "  </tbody>\n",
       "</table>\n",
       "<p>5 rows × 70 columns</p>\n",
       "</div>"
      ],
      "text/plain": [
       "    NP     FINCP  NRC  OCPIP   FS  FFSP  ST_1  ST_2  ST_4  ST_5   ...     \\\n",
       "1    4  151000.0  0.0    3.0  0.0     0     1     0     0     0   ...      \n",
       "6    2  136000.0  0.0   13.0  0.0     0     1     0     0     0   ...      \n",
       "7    2   52600.0  0.0    8.0  0.0     0     1     0     0     0   ...      \n",
       "9    2   81600.0  0.0   13.0  0.0     0     1     0     0     0   ...      \n",
       "14   2   35000.0  0.0   10.0  0.0     0     1     0     0     0   ...      \n",
       "\n",
       "    ADJINC_1045195  ADJINC_1061971  FES_1.0  FES_2.0  FES_3.0  FES_4.0  \\\n",
       "1                0               1        1        0        0        0   \n",
       "6                0               1        1        0        0        0   \n",
       "7                0               1        0        0        0        1   \n",
       "9                0               1        1        0        0        0   \n",
       "14               0               1        1        0        0        0   \n",
       "\n",
       "    FES_5.0  FES_6.0  FES_7.0  FES_8.0  \n",
       "1         0        0        0        0  \n",
       "6         0        0        0        0  \n",
       "7         0        0        0        0  \n",
       "9         0        0        0        0  \n",
       "14        0        0        0        0  \n",
       "\n",
       "[5 rows x 70 columns]"
      ]
     },
     "execution_count": 88,
     "metadata": {},
     "output_type": "execute_result"
    }
   ],
   "source": [
    "df_oh = data_rna.copy()\n",
    "df_oh = pd.get_dummies(df_oh, columns=['ST'], prefix = ['ST'])\n",
    "df_oh = pd.get_dummies(df_oh, columns=['ADJINC'], prefix = ['ADJINC'])\n",
    "df_oh = pd.get_dummies(df_oh, columns=['FES'], prefix = ['FES'])\n",
    "df_oh['FS'].replace([1.0, 2.0], [1, 0], inplace=True)\n",
    "df_oh.head()"
   ]
  },
  {
   "cell_type": "code",
   "execution_count": 79,
   "metadata": {},
   "outputs": [
    {
     "name": "stdout",
     "output_type": "stream",
     "text": [
      "['NP', 'FINCP', 'NRC', 'OCPIP', 'FS', 'FFSP', 'ST_1', 'ST_2', 'ST_4', 'ST_5', 'ST_6', 'ST_8', 'ST_9', 'ST_10', 'ST_11', 'ST_12', 'ST_13', 'ST_15', 'ST_16', 'ST_17', 'ST_18', 'ST_19', 'ST_20', 'ST_21', 'ST_22', 'ST_23', 'ST_24', 'ST_25', 'ST_26', 'ST_27', 'ST_28', 'ST_29', 'ST_30', 'ST_31', 'ST_32', 'ST_33', 'ST_34', 'ST_35', 'ST_36', 'ST_37', 'ST_38', 'ST_39', 'ST_40', 'ST_41', 'ST_42', 'ST_44', 'ST_45', 'ST_46', 'ST_47', 'ST_48', 'ST_49', 'ST_50', 'ST_51', 'ST_53', 'ST_54', 'ST_55', 'ST_56', 'ADJINC_1011189', 'ADJINC_1029257', 'ADJINC_1035988', 'ADJINC_1045195', 'ADJINC_1061971', 'FES_1.0', 'FES_2.0', 'FES_3.0', 'FES_4.0', 'FES_5.0', 'FES_6.0', 'FES_7.0', 'FES_8.0']\n"
     ]
    }
   ],
   "source": [
    "print(list(df_oh))"
   ]
  },
  {
   "cell_type": "markdown",
   "metadata": {},
   "source": [
    "### logistic regression (skipped)"
   ]
  },
  {
   "cell_type": "code",
   "execution_count": 89,
   "metadata": {
    "collapsed": true
   },
   "outputs": [],
   "source": [
    "# separate X and Y\n",
    "X = df_oh.copy().drop(['FS', 'FFSP'], axis=1, inplace=False)\n",
    "Y_FS = df_oh.FS\n",
    "Y_FFSP = df_oh.FFSP"
   ]
  },
  {
   "cell_type": "code",
   "execution_count": 90,
   "metadata": {},
   "outputs": [
    {
     "name": "stdout",
     "output_type": "stream",
     "text": [
      "[[ 5.23908346e-03 -3.63590563e-05  4.24667051e-03 -1.12842354e-02\n",
      "  -4.04437245e-05  1.45318065e-05 -5.33213222e-06 -3.92217492e-05\n",
      "  -1.28239070e-04 -5.58647580e-05 -8.02503495e-06  1.33767699e-06\n",
      "   6.60797116e-06  9.46928085e-06 -1.24746440e-05  1.23843725e-05\n",
      "  -2.49951130e-05 -1.45341467e-05 -8.88816723e-05 -3.97676475e-05\n",
      "  -5.15228686e-05 -3.29760974e-05 -1.16645182e-05 -5.92011991e-06\n",
      "   2.55018541e-05 -1.55363343e-05 -3.22808494e-05 -9.92635757e-05\n",
      "  -3.72768150e-06 -7.59229308e-05 -1.96069628e-05 -3.64936977e-05\n",
      "  -1.73231072e-05 -1.60405376e-05 -3.43219799e-05  1.47570455e-05\n",
      "  -1.17209952e-05 -5.93002841e-05 -1.70409696e-05 -8.86846940e-05\n",
      "  -2.32123339e-05  1.89647047e-05 -1.09285131e-04  1.00870122e-06\n",
      "  -2.51423692e-05 -1.43116027e-05 -2.42765726e-05 -3.79004728e-05\n",
      "  -3.42164275e-05 -4.21727034e-06 -5.34733634e-05  1.21935312e-05\n",
      "  -9.92581736e-06 -8.40801541e-05 -1.04237351e-05 -3.05211924e-04\n",
      "  -2.71493287e-04 -2.70039554e-04 -2.85769819e-04 -2.68321619e-04\n",
      "  -4.71767850e-04 -2.79665037e-04 -2.59619252e-04 -1.75410191e-03\n",
      "   1.04629116e-04  1.26951278e-04  5.35181757e-04  5.97555702e-04]]\n"
     ]
    }
   ],
   "source": [
    "# model fitting\n",
    "test_size = 0.33\n",
    "seed = 7\n",
    "X_train, X_test, Y_FS_train, Y_FS_test = train_test_split(X, Y_FS, test_size=test_size, random_state=seed)\n",
    "\n",
    "model_FS = LogisticRegression()\n",
    "model_FS.fit(X_train, Y_FS_train)\n",
    "# result_FS = model_FS.score(X_test, Y_FS_test)\n",
    "print(model_FS.coef_)"
   ]
  },
  {
   "cell_type": "code",
   "execution_count": 91,
   "metadata": {},
   "outputs": [
    {
     "data": {
      "text/plain": [
       "array([[957891,      4],\n",
       "       [ 64032,      3]])"
      ]
     },
     "execution_count": 91,
     "metadata": {},
     "output_type": "execute_result"
    }
   ],
   "source": [
    "# confusion matrix\n",
    "Y_FS_pred=model_FS.predict(X_test)\n",
    "\n",
    "cnf_FS_matrix = metrics.confusion_matrix(Y_FS_test, Y_FS_pred)\n",
    "cnf_FS_matrix"
   ]
  },
  {
   "cell_type": "code",
   "execution_count": 92,
   "metadata": {},
   "outputs": [
    {
     "data": {
      "text/plain": [
       "Text(0.5,257.44,'Predicted label')"
      ]
     },
     "execution_count": 92,
     "metadata": {},
     "output_type": "execute_result"
    },
    {
     "data": {
      "image/png": "[encoded data removed]",
      "text/plain": [
       "<matplotlib.figure.Figure at 0x11b1ba2e8>"
      ]
     },
     "metadata": {},
     "output_type": "display_data"
    }
   ],
   "source": [
    "# visualize confusion matrix\n",
    "class_names=['1','2'] # name of classes\n",
    "fig, ax = plt.subplots()\n",
    "tick_marks = np.arange(len(class_names))\n",
    "plt.xticks(tick_marks, class_names)\n",
    "plt.yticks(tick_marks, class_names)\n",
    "# create heatmap\n",
    "sns.heatmap(pd.DataFrame(cnf_FS_matrix), annot=True, cmap=\"YlGnBu\" ,fmt='g')\n",
    "ax.xaxis.set_label_position(\"top\")\n",
    "plt.tight_layout()\n",
    "plt.title('Confusion matrix', y=1.1)\n",
    "plt.ylabel('Actual label')\n",
    "plt.xlabel('Predicted label')"
   ]
  },
  {
   "cell_type": "code",
   "execution_count": 93,
   "metadata": {},
   "outputs": [
    {
     "name": "stdout",
     "output_type": "stream",
     "text": [
      "Accuracy: 0.9373381738475238\n",
      "Precision: 0.42857142857142855\n",
      "Recall: 4.684937924572499e-05\n"
     ]
    }
   ],
   "source": [
    "print(\"Accuracy:\",metrics.accuracy_score(Y_FS_test, Y_FS_pred))\n",
    "print(\"Precision:\",metrics.precision_score(Y_FS_test, Y_FS_pred))\n",
    "print(\"Recall:\",metrics.recall_score(Y_FS_test, Y_FS_pred))"
   ]
  },
  {
   "cell_type": "code",
   "execution_count": 95,
   "metadata": {},
   "outputs": [
    {
     "data": {
      "image/png": "[encoded data removed]",
      "text/plain": [
       "<matplotlib.figure.Figure at 0x11b16d4a8>"
      ]
     },
     "metadata": {},
     "output_type": "display_data"
    }
   ],
   "source": [
    "Y_FS_pred_proba = model_FS.predict_proba(X_test)[::,1]\n",
    "fpr, tpr, _ = metrics.roc_curve(Y_FS_test, Y_FS_pred_proba)\n",
    "auc = metrics.roc_auc_score(Y_FS_test, Y_FS_pred_proba)\n",
    "plt.plot(fpr,tpr,label=\"data SNAP, auc=\"+str(auc))\n",
    "plt.legend(loc=4)\n",
    "plt.show()"
   ]
  },
  {
   "cell_type": "markdown",
   "metadata": {},
   "source": [
    "### logistic regression - deal with unbalanced data by sampling "
   ]
  },
  {
   "cell_type": "code",
   "execution_count": 117,
   "metadata": {
    "collapsed": true
   },
   "outputs": [],
   "source": [
    "df_oh_FS_0 = df_oh[df_oh['FS'] == 0].sample(n=df_oh['FS'].value_counts()[1], random_state=1)\n",
    "df_oh_FS_1 = df_oh[df_oh['FS'] == 1]\n",
    "balanced_df_oh = pd.concat([df_oh_FS_0, df_oh_FS_1])\n",
    "# separate X and Y\n",
    "balanced_X = balanced_df_oh.copy().drop(['FS', 'FFSP'], axis=1, inplace=False)\n",
    "balanced_Y_FS = balanced_df_oh.FS\n",
    "balanced_Y_FFSP = balanced_df_oh.FFSP"
   ]
  },
  {
   "cell_type": "code",
   "execution_count": 120,
   "metadata": {},
   "outputs": [
    {
     "name": "stdout",
     "output_type": "stream",
     "text": [
      "[[ 3.09879791e-02 -1.04786229e-05  1.26656088e-02  2.20171394e-02\n",
      "   1.06380702e-04  5.58886248e-05  1.88922996e-04  5.68911361e-05\n",
      "  -1.80987581e-04 -1.01359230e-04 -4.32435537e-05  2.22340389e-05\n",
      "   2.07304185e-05  5.35637529e-04  1.96951374e-04  4.50639255e-05\n",
      "  -9.17588180e-06  1.19144559e-04  6.43155164e-06 -7.72422693e-06\n",
      "  -4.09621783e-05  9.23778474e-05  1.48902807e-04  3.10997784e-05\n",
      "   6.11608615e-05 -4.75425202e-05  2.21857454e-04 -1.68066113e-04\n",
      "   1.41192112e-04  3.88572046e-06 -8.64351368e-06 -4.27558632e-05\n",
      "   7.16770991e-06 -3.51047150e-05 -1.73262984e-04  1.39143378e-04\n",
      "   7.49394952e-05  1.19893684e-04 -2.28385724e-05  7.80896147e-05\n",
      "   8.99525517e-05  1.32763837e-04  3.24572156e-05 -3.88797025e-07\n",
      "   1.16722464e-04 -9.85189137e-06  1.97980621e-04  6.02603942e-04\n",
      "  -4.51789526e-05 -4.22741381e-06 -5.92097405e-05  1.25857132e-04\n",
      "   8.77032111e-05 -8.86674320e-05 -1.37777728e-05  4.19741029e-04\n",
      "   5.45180210e-04  5.24366301e-04  5.60962163e-04  7.06809658e-04\n",
      "  -2.01985306e-03 -3.51645619e-05 -7.27665523e-05 -1.19218086e-03\n",
      "   7.39383194e-04  6.54935642e-04  2.24916667e-03  2.43353889e-03]]\n"
     ]
    }
   ],
   "source": [
    "# model fitting\n",
    "test_size = 0.33\n",
    "seed = 7\n",
    "balanced_X_train, balanced_X_test, balanced_Y_FS_train, balanced_Y_FS_test = train_test_split(balanced_X, balanced_Y_FS, test_size=test_size, random_state=seed)\n",
    "\n",
    "balanced_model_FS = LogisticRegression()\n",
    "balanced_model_FS.fit(balanced_X_train, balanced_Y_FS_train)\n",
    "# result_FS = model_FS.score(X_test, Y_FS_test)\n",
    "print(balanced_model_FS.coef_)"
   ]
  },
  {
   "cell_type": "code",
   "execution_count": 121,
   "metadata": {},
   "outputs": [
    {
     "data": {
      "text/plain": [
       "array([[47784, 16403],\n",
       "       [21744, 42351]])"
      ]
     },
     "execution_count": 121,
     "metadata": {},
     "output_type": "execute_result"
    }
   ],
   "source": [
    "# confusion matrix\n",
    "balanced_Y_FS_pred=balanced_model_FS.predict(balanced_X_test)\n",
    "\n",
    "balanced_cnf_FS_matrix = metrics.confusion_matrix(balanced_Y_FS_test, balanced_Y_FS_pred)\n",
    "balanced_cnf_FS_matrix"
   ]
  },
  {
   "cell_type": "code",
   "execution_count": 122,
   "metadata": {},
   "outputs": [
    {
     "name": "stdout",
     "output_type": "stream",
     "text": [
      "Accuracy: 0.702631702031462\n",
      "Precision: 0.7208190080675358\n",
      "Recall: 0.6607535689211327\n"
     ]
    }
   ],
   "source": [
    "print(\"Accuracy:\",metrics.accuracy_score(balanced_Y_FS_test, balanced_Y_FS_pred))\n",
    "print(\"Precision:\",metrics.precision_score(balanced_Y_FS_test, balanced_Y_FS_pred))\n",
    "print(\"Recall:\",metrics.recall_score(balanced_Y_FS_test, balanced_Y_FS_pred))"
   ]
  },
  {
   "cell_type": "markdown",
   "metadata": {},
   "source": [
    "### random forest (skipped)"
   ]
  },
  {
   "cell_type": "code",
   "execution_count": 125,
   "metadata": {
    "collapsed": true
   },
   "outputs": [],
   "source": [
    "#Create a Gaussian Classifier\n",
    "clf_FS=RandomForestClassifier(n_estimators=100)\n",
    "\n",
    "#Train the model using the training sets y_pred=clf.predict(X_test)\n",
    "clf_FS.fit(X_train,Y_FS_train)\n",
    "\n",
    "rf_Y_FS_pred=clf_FS.predict(X_test)"
   ]
  },
  {
   "cell_type": "code",
   "execution_count": 131,
   "metadata": {},
   "outputs": [
    {
     "name": "stdout",
     "output_type": "stream",
     "text": [
      "Accuracy: 0.9351198222970262\n",
      "Precision: 0.45674397314617027\n",
      "Recall: 0.18699148902943702\n"
     ]
    }
   ],
   "source": [
    "print(\"Accuracy:\",metrics.accuracy_score(Y_FS_test, rf_Y_FS_pred))\n",
    "print(\"Precision:\",metrics.precision_score(Y_FS_test, rf_Y_FS_pred))\n",
    "print(\"Recall:\",metrics.recall_score(Y_FS_test, rf_Y_FS_pred))"
   ]
  },
  {
   "cell_type": "code",
   "execution_count": 130,
   "metadata": {},
   "outputs": [
    {
     "data": {
      "text/plain": [
       "FINCP             0.398398\n",
       "OCPIP             0.211158\n",
       "NP                0.074719\n",
       "NRC               0.044400\n",
       "FES_8.0           0.021763\n",
       "ADJINC_1035988    0.012126\n",
       "ADJINC_1045195    0.012086\n",
       "ADJINC_1029257    0.011945\n",
       "ADJINC_1061971    0.011285\n",
       "ADJINC_1011189    0.010567\n",
       "FES_7.0           0.010015\n",
       "FES_1.0           0.009223\n",
       "ST_48             0.006860\n",
       "ST_17             0.005993\n",
       "FES_4.0           0.005975\n",
       "ST_42             0.005871\n",
       "ST_36             0.005453\n",
       "ST_37             0.005322\n",
       "ST_12             0.005297\n",
       "ST_39             0.005264\n",
       "ST_6              0.005183\n",
       "ST_13             0.005175\n",
       "FES_2.0           0.005078\n",
       "ST_26             0.004919\n",
       "FES_6.0           0.004550\n",
       "ST_4              0.004203\n",
       "ST_29             0.003987\n",
       "ST_47             0.003982\n",
       "ST_53             0.003952\n",
       "ST_18             0.003885\n",
       "                    ...   \n",
       "FES_5.0           0.003064\n",
       "FES_3.0           0.002910\n",
       "ST_5              0.002854\n",
       "ST_41             0.002826\n",
       "ST_28             0.002797\n",
       "ST_19             0.002472\n",
       "ST_25             0.002445\n",
       "ST_35             0.002331\n",
       "ST_8              0.002318\n",
       "ST_34             0.002258\n",
       "ST_27             0.002235\n",
       "ST_32             0.002224\n",
       "ST_54             0.002146\n",
       "ST_20             0.001975\n",
       "ST_49             0.001865\n",
       "ST_9              0.001826\n",
       "ST_23             0.001753\n",
       "ST_16             0.001615\n",
       "ST_15             0.001346\n",
       "ST_31             0.001336\n",
       "ST_10             0.001214\n",
       "ST_2              0.001054\n",
       "ST_30             0.001053\n",
       "ST_44             0.001018\n",
       "ST_33             0.000927\n",
       "ST_50             0.000852\n",
       "ST_46             0.000817\n",
       "ST_11             0.000566\n",
       "ST_38             0.000549\n",
       "ST_56             0.000518\n",
       "Length: 68, dtype: float64"
      ]
     },
     "execution_count": 130,
     "metadata": {},
     "output_type": "execute_result"
    }
   ],
   "source": [
    "# get feature importance scores (sum to 1)\n",
    "feature_imp = pd.Series(clf_FS.feature_importances_,index=list(X)).sort_values(ascending=False)\n",
    "feature_imp"
   ]
  },
  {
   "cell_type": "markdown",
   "metadata": {},
   "source": [
    "### random forest - deal with unbalanced data by sampling"
   ]
  },
  {
   "cell_type": "code",
   "execution_count": 132,
   "metadata": {
    "collapsed": true
   },
   "outputs": [],
   "source": [
    "#Create a Gaussian Classifier\n",
    "balanced_clf_FS=RandomForestClassifier(n_estimators=100)\n",
    "\n",
    "#Train the model using the training sets y_pred=clf.predict(X_test)\n",
    "balanced_clf_FS.fit(balanced_X_train, balanced_Y_FS_train)\n",
    "\n",
    "balanced_rf_Y_FS_pred=balanced_clf_FS.predict(balanced_X_test)"
   ]
  },
  {
   "cell_type": "code",
   "execution_count": 133,
   "metadata": {},
   "outputs": [
    {
     "name": "stdout",
     "output_type": "stream",
     "text": [
      "Accuracy: 0.8009541478929234\n",
      "Precision: 0.7882548178270815\n",
      "Recall: 0.8225914657929636\n"
     ]
    }
   ],
   "source": [
    "print(\"Accuracy:\",metrics.accuracy_score(balanced_Y_FS_test, balanced_rf_Y_FS_pred))\n",
    "print(\"Precision:\",metrics.precision_score(balanced_Y_FS_test, balanced_rf_Y_FS_pred))\n",
    "print(\"Recall:\",metrics.recall_score(balanced_Y_FS_test, balanced_rf_Y_FS_pred))"
   ]
  },
  {
   "cell_type": "code",
   "execution_count": 134,
   "metadata": {},
   "outputs": [
    {
     "data": {
      "text/plain": [
       "FINCP             0.345517\n",
       "OCPIP             0.154276\n",
       "NP                0.131224\n",
       "NRC               0.052732\n",
       "FES_1.0           0.039149\n",
       "FES_8.0           0.032327\n",
       "FES_7.0           0.020352\n",
       "ADJINC_1029257    0.010289\n",
       "ADJINC_1035988    0.010259\n",
       "ADJINC_1045195    0.010222\n",
       "FES_4.0           0.009956\n",
       "ADJINC_1011189    0.009656\n",
       "ADJINC_1061971    0.009632\n",
       "FES_2.0           0.009218\n",
       "FES_6.0           0.008143\n",
       "ST_48             0.006459\n",
       "ST_6              0.006103\n",
       "FES_5.0           0.005876\n",
       "ST_36             0.005373\n",
       "ST_17             0.005338\n",
       "ST_42             0.005147\n",
       "ST_12             0.005111\n",
       "ST_39             0.004653\n",
       "ST_13             0.004557\n",
       "ST_37             0.004522\n",
       "FES_3.0           0.004489\n",
       "ST_26             0.004324\n",
       "ST_53             0.003513\n",
       "ST_47             0.003443\n",
       "ST_4              0.003439\n",
       "                    ...   \n",
       "ST_55             0.002997\n",
       "ST_21             0.002796\n",
       "ST_25             0.002774\n",
       "ST_40             0.002614\n",
       "ST_8              0.002546\n",
       "ST_27             0.002502\n",
       "ST_41             0.002485\n",
       "ST_5              0.002215\n",
       "ST_28             0.002151\n",
       "ST_19             0.002041\n",
       "ST_49             0.002004\n",
       "ST_9              0.001928\n",
       "ST_35             0.001921\n",
       "ST_32             0.001902\n",
       "ST_20             0.001772\n",
       "ST_54             0.001738\n",
       "ST_23             0.001360\n",
       "ST_16             0.001323\n",
       "ST_31             0.001292\n",
       "ST_15             0.001212\n",
       "ST_33             0.001083\n",
       "ST_10             0.001029\n",
       "ST_44             0.000981\n",
       "ST_30             0.000882\n",
       "ST_50             0.000739\n",
       "ST_46             0.000728\n",
       "ST_2              0.000654\n",
       "ST_38             0.000581\n",
       "ST_56             0.000545\n",
       "ST_11             0.000466\n",
       "Length: 68, dtype: float64"
      ]
     },
     "execution_count": 134,
     "metadata": {},
     "output_type": "execute_result"
    }
   ],
   "source": [
    "# get feature importance scores (sum to 1)\n",
    "feature_imp = pd.Series(balanced_clf_FS.feature_importances_,index=list(X)).sort_values(ascending=False)\n",
    "feature_imp"
   ]
  },
  {
   "cell_type": "code",
   "execution_count": null,
   "metadata": {
    "collapsed": true
   },
   "outputs": [],
   "source": []
  }
 ],
 "metadata": {
  "kernelspec": {
   "display_name": "Python 3",
   "language": "python",
   "name": "python3"
  },
  "language_info": {
   "codemirror_mode": {
    "name": "ipython",
    "version": 3
   },
   "file_extension": ".py",
   "mimetype": "text/x-python",
   "name": "python",
   "nbconvert_exporter": "python",
   "pygments_lexer": "ipython3",
   "version": "3.6.3"
  }
 },
 "nbformat": 4,
 "nbformat_minor": 2
}
